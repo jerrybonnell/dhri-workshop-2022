{
 "cells": [
  {
   "cell_type": "markdown",
   "metadata": {},
   "source": [
    "# DHRI 2022 Workshop: Tidy Text Mining in R for Digital Humanities\n",
    "\n",
    "This is a hands-on workshop part of the Digital Humanities Research Institute 2022 focusing on textual analysis methods and applications for Digital Humanities using the programming language R and the [tidyverse](https://www.tidyverse.org). The workshop will be split into 4 sections with a XXXX minute break in-between the third and fourth section. The sections get \n",
    "incrementally more advanced, building on concepts and methods from the previous sections.\n",
    "\n",
    "Instructor:\n",
    "\n",
    "- Jerry Bonnell, <a href=\"mailto:j.bonnell@miami.edu\">j.bonnell@miami.edu</a>, University of Miami, Department of Computer Science\n"
   ]
  },
  {
   "cell_type": "markdown",
   "metadata": {},
   "source": [
    "### Overview\n",
    "\n",
    "Here is an outline of what you will learn in this workshop: "
   ]
  },
  {
   "cell_type": "markdown",
   "metadata": {},
   "source": [
    "#### 1. Retrieving text with the `gutenbergr` package (20 mins)\n",
    "\n",
    "This unit will give a brief introduction to retrieving texts from the Project Gutenberg\n",
    "repository and how to load them into an R environment. Concepts needed to understand how \n",
    "textual data is represented in R will also be explained. We will choose select works\n",
    "from Herman Melville's oeuvre as an example corpus to play with and participants will\n",
    "have an opportunity to download their own texts as well.  \n",
    "\n",
    "- 0:00 - 0:05 Set up and introduction to tidyverse and workshop packages\n",
    "- 0:05 - 0:15 The `gutenbergr` package and how to query and download text as a tibble\n",
    "- 0:15 - 0:20 __[Exercise]__ Downloading your own texts from Project Gutenberg\n",
    "\n",
    "\n",
    "#### 2. Understanding the \"tidy text\" format (40 mins)\n",
    "\n",
    "This unit will motivate and introduce the \"tidy text\" format as a \n",
    "principled way for managing and transforming textual data effectively. It will\n",
    "also show how tidy text principles can be applied to tidying an example corpus \n",
    "downloaded from Project Gutenberg. \n",
    "\n",
    "- 0:00 - 0:05 Why bother making text \"tidy\"? \n",
    "- 0:05 - 0:10 Tokens and tokenization: the basic meaningful unit in text analysis\n",
    "- 0:10 - 0:15 __[Exercise]__ Accessing tokens in an example sentence\n",
    "- 0:15 - 0:20 Example: Transforming *Moby Dick* to tidy text\n",
    "- 0:20 - 0:30 Stopwords\n",
    "- 0:30 - 0:35 Transformation to and from non-tidy forms\n",
    "- 0:35 - 0:40 __[Exercise]__ From tidy text to document-feature matrix\n",
    "\n",
    "\n",
    "#### 3. Frequency analysis with \"tidy text\" principles (40 mins)\n",
    "\n",
    "This unit will focus on how to accomplish a frequency analysis task using \n",
    "tidy text principles, with the help of plots and visualizations that are \n",
    "commonly used when analyzing the data this way. \n",
    "\n",
    "- 0:00 - 0:10 Exploring a \"tidy pipeline\" for a corpus of Melville prose\n",
    "- 0:10 - 0:20 Visualizing popular words with `ggplot2`\n",
    "- 0:20 - 0:25 __[Exercise]__ Tweaking a visualization  \n",
    "- 0:25 - 0:40 Just how influential was *Moby Dick*’s vocabulary?\n",
    "\n",
    "#### 4. Sentiment analysis with \"tidy text\" principles (50 mins)\n",
    "\n",
    "This unit turns to a more advanced text mining task of sentiment\n",
    "analysis. We will learn how to approach sentiment using tidy \n",
    "text and explore this through the narratives of Melville's works. \n",
    "\n",
    "- 0:00 - 0:10 The sentiments datasets\n",
    "- 0:10 - 0:20 Sentiment analysis by merging tables \n",
    "- 0:20 - 0:30 Top positive and negative words \n",
    "- 0:30 - 0:40 pos/neg word cloud visualization (?)\n",
    "- 0:40 - 0:50 Limitations (target language, negations, ...)"
   ]
  },
  {
   "cell_type": "markdown",
   "metadata": {},
   "source": [
    "## 0. Setting up \n",
    "\n",
    "Before we get started, let's go ahead and set up our notebook.\n",
    "\n",
    "We will start by importing a few important R packages that we will be using throughout the workshop."
   ]
  },
  {
   "cell_type": "code",
   "execution_count": 2,
   "metadata": {},
   "outputs": [
    {
     "name": "stderr",
     "output_type": "stream",
     "text": [
      "── \u001b[1mAttaching packages\u001b[22m ─────────────────────────────────────── tidyverse 1.3.1 ──\n",
      "\n",
      "\u001b[32m✔\u001b[39m \u001b[34mggplot2\u001b[39m 3.3.5     \u001b[32m✔\u001b[39m \u001b[34mpurrr  \u001b[39m 0.3.4\n",
      "\u001b[32m✔\u001b[39m \u001b[34mtibble \u001b[39m 3.1.4     \u001b[32m✔\u001b[39m \u001b[34mdplyr  \u001b[39m 1.0.7\n",
      "\u001b[32m✔\u001b[39m \u001b[34mtidyr  \u001b[39m 1.1.3     \u001b[32m✔\u001b[39m \u001b[34mstringr\u001b[39m 1.4.0\n",
      "\u001b[32m✔\u001b[39m \u001b[34mreadr  \u001b[39m 2.0.1     \u001b[32m✔\u001b[39m \u001b[34mforcats\u001b[39m 0.5.1\n",
      "\n",
      "── \u001b[1mConflicts\u001b[22m ────────────────────────────────────────── tidyverse_conflicts() ──\n",
      "\u001b[31m✖\u001b[39m \u001b[34mdplyr\u001b[39m::\u001b[32mfilter()\u001b[39m masks \u001b[34mstats\u001b[39m::filter()\n",
      "\u001b[31m✖\u001b[39m \u001b[34mdplyr\u001b[39m::\u001b[32mlag()\u001b[39m    masks \u001b[34mstats\u001b[39m::lag()\n",
      "\n"
     ]
    }
   ],
   "source": [
    "options(repr.matrix.max.cols=20, repr.matrix.max.rows=15)\n",
    "options(repr.plot.width = 10, repr.plot.height = 6, repr.plot.res = 160)\n",
    "\n",
    "library(tidyverse)\n",
    "library(tidytext)\n",
    "library(gutenbergr)"
   ]
  },
  {
   "cell_type": "markdown",
   "metadata": {},
   "source": [
    "#### What are these libraries?\n",
    "\n",
    "\n",
    "<table><tr>\n",
    "<td> <img src=\"https://ds4world.cs.miami.edu/images/hex-tidyverse.png\" style=\"width: 170px;\"/> </td>\n",
    "<td> <img src=\"https://raw.githubusercontent.com/juliasilge/tidytext/master/man/figures/tidytext.png\" style=\"width: 170px;\"/> </td>\n",
    "<td> <img src=\"https://docs.ropensci.org/gutenbergr/hexlogo.png\" style=\"width: 170px;\"/></td>\n",
    "</tr></table>\n",
    "\n",
    "\n",
    "1. `tidyverse`: An opinionated collection of R packages designed for data science, each having to do with data processing, transformation, and visualization. All packages share a core underlying design philosophy. The main packages we will see from here are `tibble`, for tabular representation of data, and `ggplot2`, for an easy-to-understand and consistent methodology for doing data visualization. \n",
    "2. `tidytext`: This package brings \"tidy principles\" to text so that text mining tasks are easier to do, more effective, and consistent with other tools already in wide use, e.g.,  members of the `tidyverse` like `dplyr`, `tibble`, and `ggplot2`.  \n",
    "3. `gutenbergr`: A package that provides a useful querying tool for searching and downloading public domain works from the [Project Gutenberg](http://www.gutenberg.org/) collection.\n",
    "\n",
    "We will be working with a few sample texts using the `gutenbergr` package. "
   ]
  },
  {
   "cell_type": "markdown",
   "metadata": {},
   "source": [
    "## 1. Text retrieval with `gutenbergr`\n",
    "\n",
    "For the first part of this session we will use a corpus of Herman Melville’s prose as a data source for exploring tidy text principles and conducting text mining tasks. We will collect four texts from the Project Gutenberg repository for this part of the workshop: *Moby Dick*, *Bartleby, the Scrivener: A Story of Wall-Street*, *White Jacket*, and *Typee: A Romance of the South Seas*.\n",
    "\n",
    "The `gutenbergr` package makes text querying and retrieval fairly straightforward. For instance, we can look up all texts available in the repository that have been authored by Melville. "
   ]
  },
  {
   "cell_type": "code",
   "execution_count": 3,
   "metadata": {},
   "outputs": [
    {
     "data": {
      "text/html": [
       "<table class=\"dataframe\">\n",
       "<caption>A tibble: 17 × 8</caption>\n",
       "<thead>\n",
       "\t<tr><th scope=col>gutenberg_id</th><th scope=col>title</th><th scope=col>author</th><th scope=col>gutenberg_author_id</th><th scope=col>language</th><th scope=col>gutenberg_bookshelf</th><th scope=col>rights</th><th scope=col>has_text</th></tr>\n",
       "\t<tr><th scope=col>&lt;int&gt;</th><th scope=col>&lt;chr&gt;</th><th scope=col>&lt;chr&gt;</th><th scope=col>&lt;int&gt;</th><th scope=col>&lt;chr&gt;</th><th scope=col>&lt;chr&gt;</th><th scope=col>&lt;chr&gt;</th><th scope=col>&lt;lgl&gt;</th></tr>\n",
       "</thead>\n",
       "<tbody>\n",
       "\t<tr><td>   15</td><td>Moby Dick                                                                                                                     </td><td>Melville, Herman</td><td>9</td><td>en</td><td>Best Books Ever Listings/Adventure</td><td>Public domain in the USA.</td><td>TRUE</td></tr>\n",
       "\t<tr><td> 1900</td><td>Typee: A Romance of the South Seas                                                                                            </td><td>Melville, Herman</td><td>9</td><td>en</td><td>NA                                </td><td>Public domain in the USA.</td><td>TRUE</td></tr>\n",
       "\t<tr><td> 2489</td><td>Moby Dick; Or, The Whale                                                                                                      </td><td>Melville, Herman</td><td>9</td><td>en</td><td>Best Books Ever Listings          </td><td>Public domain in the USA.</td><td>TRUE</td></tr>\n",
       "\t<tr><td> 2694</td><td>I and My Chimney                                                                                                              </td><td>Melville, Herman</td><td>9</td><td>en</td><td>NA                                </td><td>Public domain in the USA.</td><td>TRUE</td></tr>\n",
       "\t<tr><td> 4045</td><td>Omoo: Adventures in the South Seas                                                                                            </td><td>Melville, Herman</td><td>9</td><td>en</td><td>NA                                </td><td>Public domain in the USA.</td><td>TRUE</td></tr>\n",
       "\t<tr><td> 8118</td><td>Redburn. His First Voyage\r\n",
       "Being the Sailor Boy Confessions and Reminiscences of the Son-Of-A-Gentleman in the Merchant Navy</td><td>Melville, Herman</td><td>9</td><td>en</td><td>NA                                </td><td>Public domain in the USA.</td><td>TRUE</td></tr>\n",
       "\t<tr><td>10712</td><td>White Jacket; Or, The World on a Man-of-War                                                                                   </td><td>Melville, Herman</td><td>9</td><td>en</td><td>NA                                </td><td>Public domain in the USA.</td><td>TRUE</td></tr>\n",
       "\t<tr><td>11231</td><td>Bartleby, the Scrivener: A Story of Wall-Street                                                                               </td><td>Melville, Herman</td><td>9</td><td>en</td><td>NA                                </td><td>Public domain in the USA.</td><td>TRUE</td></tr>\n",
       "\t<tr><td>⋮</td><td>⋮</td><td>⋮</td><td>⋮</td><td>⋮</td><td>⋮</td><td>⋮</td><td>⋮</td></tr>\n",
       "\t<tr><td>13720</td><td>Mardi: and A Voyage Thither, Vol. I      </td><td>Melville, Herman</td><td>9</td><td>en</td><td>NA</td><td>Public domain in the USA.</td><td>TRUE</td></tr>\n",
       "\t<tr><td>13721</td><td>Mardi: and A Voyage Thither, Vol. II     </td><td>Melville, Herman</td><td>9</td><td>en</td><td>NA</td><td>Public domain in the USA.</td><td>TRUE</td></tr>\n",
       "\t<tr><td>15422</td><td>Israel Potter\r\n",
       "His Fifty Years of Exile</td><td>Melville, Herman</td><td>9</td><td>en</td><td>NA</td><td>Public domain in the USA.</td><td>TRUE</td></tr>\n",
       "\t<tr><td>15859</td><td>The Piazza Tales                         </td><td>Melville, Herman</td><td>9</td><td>en</td><td>NA</td><td>Public domain in the USA.</td><td>TRUE</td></tr>\n",
       "\t<tr><td>21816</td><td>The Confidence-Man: His Masquerade       </td><td>Melville, Herman</td><td>9</td><td>en</td><td>NA</td><td>Public domain in the USA.</td><td>TRUE</td></tr>\n",
       "\t<tr><td>28656</td><td>Typee                                    </td><td>Melville, Herman</td><td>9</td><td>en</td><td>NA</td><td>Public domain in the USA.</td><td>TRUE</td></tr>\n",
       "\t<tr><td>34970</td><td>Pierre; or The Ambiguities               </td><td>Melville, Herman</td><td>9</td><td>en</td><td>NA</td><td>Public domain in the USA.</td><td>TRUE</td></tr>\n",
       "</tbody>\n",
       "</table>\n"
      ],
      "text/latex": [
       "A tibble: 17 × 8\n",
       "\\begin{tabular}{llllllll}\n",
       " gutenberg\\_id & title & author & gutenberg\\_author\\_id & language & gutenberg\\_bookshelf & rights & has\\_text\\\\\n",
       " <int> & <chr> & <chr> & <int> & <chr> & <chr> & <chr> & <lgl>\\\\\n",
       "\\hline\n",
       "\t    15 & Moby Dick                                                                                                                      & Melville, Herman & 9 & en & Best Books Ever Listings/Adventure & Public domain in the USA. & TRUE\\\\\n",
       "\t  1900 & Typee: A Romance of the South Seas                                                                                             & Melville, Herman & 9 & en & NA                                 & Public domain in the USA. & TRUE\\\\\n",
       "\t  2489 & Moby Dick; Or, The Whale                                                                                                       & Melville, Herman & 9 & en & Best Books Ever Listings           & Public domain in the USA. & TRUE\\\\\n",
       "\t  2694 & I and My Chimney                                                                                                               & Melville, Herman & 9 & en & NA                                 & Public domain in the USA. & TRUE\\\\\n",
       "\t  4045 & Omoo: Adventures in the South Seas                                                                                             & Melville, Herman & 9 & en & NA                                 & Public domain in the USA. & TRUE\\\\\n",
       "\t  8118 & Redburn. His First Voyage\r\n",
       "Being the Sailor Boy Confessions and Reminiscences of the Son-Of-A-Gentleman in the Merchant Navy & Melville, Herman & 9 & en & NA                                 & Public domain in the USA. & TRUE\\\\\n",
       "\t 10712 & White Jacket; Or, The World on a Man-of-War                                                                                    & Melville, Herman & 9 & en & NA                                 & Public domain in the USA. & TRUE\\\\\n",
       "\t 11231 & Bartleby, the Scrivener: A Story of Wall-Street                                                                                & Melville, Herman & 9 & en & NA                                 & Public domain in the USA. & TRUE\\\\\n",
       "\t ⋮ & ⋮ & ⋮ & ⋮ & ⋮ & ⋮ & ⋮ & ⋮\\\\\n",
       "\t 13720 & Mardi: and A Voyage Thither, Vol. I       & Melville, Herman & 9 & en & NA & Public domain in the USA. & TRUE\\\\\n",
       "\t 13721 & Mardi: and A Voyage Thither, Vol. II      & Melville, Herman & 9 & en & NA & Public domain in the USA. & TRUE\\\\\n",
       "\t 15422 & Israel Potter\r\n",
       "His Fifty Years of Exile & Melville, Herman & 9 & en & NA & Public domain in the USA. & TRUE\\\\\n",
       "\t 15859 & The Piazza Tales                          & Melville, Herman & 9 & en & NA & Public domain in the USA. & TRUE\\\\\n",
       "\t 21816 & The Confidence-Man: His Masquerade        & Melville, Herman & 9 & en & NA & Public domain in the USA. & TRUE\\\\\n",
       "\t 28656 & Typee                                     & Melville, Herman & 9 & en & NA & Public domain in the USA. & TRUE\\\\\n",
       "\t 34970 & Pierre; or The Ambiguities                & Melville, Herman & 9 & en & NA & Public domain in the USA. & TRUE\\\\\n",
       "\\end{tabular}\n"
      ],
      "text/markdown": [
       "\n",
       "A tibble: 17 × 8\n",
       "\n",
       "| gutenberg_id &lt;int&gt; | title &lt;chr&gt; | author &lt;chr&gt; | gutenberg_author_id &lt;int&gt; | language &lt;chr&gt; | gutenberg_bookshelf &lt;chr&gt; | rights &lt;chr&gt; | has_text &lt;lgl&gt; |\n",
       "|---|---|---|---|---|---|---|---|\n",
       "|    15 | Moby Dick                                                                                                                      | Melville, Herman | 9 | en | Best Books Ever Listings/Adventure | Public domain in the USA. | TRUE |\n",
       "|  1900 | Typee: A Romance of the South Seas                                                                                             | Melville, Herman | 9 | en | NA                                 | Public domain in the USA. | TRUE |\n",
       "|  2489 | Moby Dick; Or, The Whale                                                                                                       | Melville, Herman | 9 | en | Best Books Ever Listings           | Public domain in the USA. | TRUE |\n",
       "|  2694 | I and My Chimney                                                                                                               | Melville, Herman | 9 | en | NA                                 | Public domain in the USA. | TRUE |\n",
       "|  4045 | Omoo: Adventures in the South Seas                                                                                             | Melville, Herman | 9 | en | NA                                 | Public domain in the USA. | TRUE |\n",
       "|  8118 | Redburn. His First Voyage\r\n",
       "Being the Sailor Boy Confessions and Reminiscences of the Son-Of-A-Gentleman in the Merchant Navy | Melville, Herman | 9 | en | NA                                 | Public domain in the USA. | TRUE |\n",
       "| 10712 | White Jacket; Or, The World on a Man-of-War                                                                                    | Melville, Herman | 9 | en | NA                                 | Public domain in the USA. | TRUE |\n",
       "| 11231 | Bartleby, the Scrivener: A Story of Wall-Street                                                                                | Melville, Herman | 9 | en | NA                                 | Public domain in the USA. | TRUE |\n",
       "| ⋮ | ⋮ | ⋮ | ⋮ | ⋮ | ⋮ | ⋮ | ⋮ |\n",
       "| 13720 | Mardi: and A Voyage Thither, Vol. I       | Melville, Herman | 9 | en | NA | Public domain in the USA. | TRUE |\n",
       "| 13721 | Mardi: and A Voyage Thither, Vol. II      | Melville, Herman | 9 | en | NA | Public domain in the USA. | TRUE |\n",
       "| 15422 | Israel Potter\r\n",
       "His Fifty Years of Exile | Melville, Herman | 9 | en | NA | Public domain in the USA. | TRUE |\n",
       "| 15859 | The Piazza Tales                          | Melville, Herman | 9 | en | NA | Public domain in the USA. | TRUE |\n",
       "| 21816 | The Confidence-Man: His Masquerade        | Melville, Herman | 9 | en | NA | Public domain in the USA. | TRUE |\n",
       "| 28656 | Typee                                     | Melville, Herman | 9 | en | NA | Public domain in the USA. | TRUE |\n",
       "| 34970 | Pierre; or The Ambiguities                | Melville, Herman | 9 | en | NA | Public domain in the USA. | TRUE |\n",
       "\n"
      ],
      "text/plain": [
       "   gutenberg_id\n",
       "1     15       \n",
       "2   1900       \n",
       "3   2489       \n",
       "4   2694       \n",
       "5   4045       \n",
       "6   8118       \n",
       "7  10712       \n",
       "8  11231       \n",
       "⋮  ⋮           \n",
       "11 13720       \n",
       "12 13721       \n",
       "13 15422       \n",
       "14 15859       \n",
       "15 21816       \n",
       "16 28656       \n",
       "17 34970       \n",
       "   title                                                                                                                         \n",
       "1  Moby Dick                                                                                                                     \n",
       "2  Typee: A Romance of the South Seas                                                                                            \n",
       "3  Moby Dick; Or, The Whale                                                                                                      \n",
       "4  I and My Chimney                                                                                                              \n",
       "5  Omoo: Adventures in the South Seas                                                                                            \n",
       "6  Redburn. His First Voyage\\r\\nBeing the Sailor Boy Confessions and Reminiscences of the Son-Of-A-Gentleman in the Merchant Navy\n",
       "7  White Jacket; Or, The World on a Man-of-War                                                                                   \n",
       "8  Bartleby, the Scrivener: A Story of Wall-Street                                                                               \n",
       "⋮  ⋮                                                                                                                             \n",
       "11 Mardi: and A Voyage Thither, Vol. I                                                                                           \n",
       "12 Mardi: and A Voyage Thither, Vol. II                                                                                          \n",
       "13 Israel Potter\\r\\nHis Fifty Years of Exile                                                                                     \n",
       "14 The Piazza Tales                                                                                                              \n",
       "15 The Confidence-Man: His Masquerade                                                                                            \n",
       "16 Typee                                                                                                                         \n",
       "17 Pierre; or The Ambiguities                                                                                                    \n",
       "   author           gutenberg_author_id language\n",
       "1  Melville, Herman 9                   en      \n",
       "2  Melville, Herman 9                   en      \n",
       "3  Melville, Herman 9                   en      \n",
       "4  Melville, Herman 9                   en      \n",
       "5  Melville, Herman 9                   en      \n",
       "6  Melville, Herman 9                   en      \n",
       "7  Melville, Herman 9                   en      \n",
       "8  Melville, Herman 9                   en      \n",
       "⋮  ⋮                ⋮                   ⋮       \n",
       "11 Melville, Herman 9                   en      \n",
       "12 Melville, Herman 9                   en      \n",
       "13 Melville, Herman 9                   en      \n",
       "14 Melville, Herman 9                   en      \n",
       "15 Melville, Herman 9                   en      \n",
       "16 Melville, Herman 9                   en      \n",
       "17 Melville, Herman 9                   en      \n",
       "   gutenberg_bookshelf                rights                    has_text\n",
       "1  Best Books Ever Listings/Adventure Public domain in the USA. TRUE    \n",
       "2  NA                                 Public domain in the USA. TRUE    \n",
       "3  Best Books Ever Listings           Public domain in the USA. TRUE    \n",
       "4  NA                                 Public domain in the USA. TRUE    \n",
       "5  NA                                 Public domain in the USA. TRUE    \n",
       "6  NA                                 Public domain in the USA. TRUE    \n",
       "7  NA                                 Public domain in the USA. TRUE    \n",
       "8  NA                                 Public domain in the USA. TRUE    \n",
       "⋮  ⋮                                  ⋮                         ⋮       \n",
       "11 NA                                 Public domain in the USA. TRUE    \n",
       "12 NA                                 Public domain in the USA. TRUE    \n",
       "13 NA                                 Public domain in the USA. TRUE    \n",
       "14 NA                                 Public domain in the USA. TRUE    \n",
       "15 NA                                 Public domain in the USA. TRUE    \n",
       "16 NA                                 Public domain in the USA. TRUE    \n",
       "17 NA                                 Public domain in the USA. TRUE    "
      ]
     },
     "metadata": {},
     "output_type": "display_data"
    }
   ],
   "source": [
    "gutenberg_works(author == \"Melville, Herman\")"
   ]
  },
  {
   "cell_type": "markdown",
   "metadata": {},
   "source": [
    "The results are returned in a format known as a *tibble*, which gives a tabular representation of the data. Tibbles are a modern take on the R *data frame*, which you may already be familiar with. From this returned tibble, we can immediately identify the Gutenberg IDs (in the column `gutenberg_id`) corresponding to the desired texts we wish to download: `11231`, `15`, `10712`, and `1900`. \n",
    "\n",
    "We can actually retrieve all these texts at once using the `gutenberg_download()` function and specifying an array of these values (technically known as a *vector* in R):"
   ]
  },
  {
   "cell_type": "code",
   "execution_count": 4,
   "metadata": {},
   "outputs": [
    {
     "data": {
      "text/html": [
       "<table class=\"dataframe\">\n",
       "<caption>A tibble: 50306 × 2</caption>\n",
       "<thead>\n",
       "\t<tr><th scope=col>gutenberg_id</th><th scope=col>text</th></tr>\n",
       "\t<tr><th scope=col>&lt;int&gt;</th><th scope=col>&lt;chr&gt;</th></tr>\n",
       "</thead>\n",
       "<tbody>\n",
       "\t<tr><td>15</td><td>Moby-Dick         </td></tr>\n",
       "\t<tr><td>15</td><td>                  </td></tr>\n",
       "\t<tr><td>15</td><td>or,               </td></tr>\n",
       "\t<tr><td>15</td><td>                  </td></tr>\n",
       "\t<tr><td>15</td><td>THE WHALE.        </td></tr>\n",
       "\t<tr><td>15</td><td>                  </td></tr>\n",
       "\t<tr><td>15</td><td>by Herman Melville</td></tr>\n",
       "\t<tr><td>15</td><td>                  </td></tr>\n",
       "\t<tr><td>⋮</td><td>⋮</td></tr>\n",
       "\t<tr><td>11231</td><td>finger it was meant for, perhaps, moulders in the grave; a bank-note    </td></tr>\n",
       "\t<tr><td>11231</td><td>sent in swiftest charity:--he whom it would relieve, nor eats nor       </td></tr>\n",
       "\t<tr><td>11231</td><td>hungers any more; pardon for those who died despairing; hope for those  </td></tr>\n",
       "\t<tr><td>11231</td><td>who died unhoping; good tidings for those who died stifled by unrelieved</td></tr>\n",
       "\t<tr><td>11231</td><td>calamities.  On errands of life, these letters speed to death.          </td></tr>\n",
       "\t<tr><td>11231</td><td>                                                                        </td></tr>\n",
       "\t<tr><td>11231</td><td>Ah Bartleby!  Ah humanity!                                              </td></tr>\n",
       "</tbody>\n",
       "</table>\n"
      ],
      "text/latex": [
       "A tibble: 50306 × 2\n",
       "\\begin{tabular}{ll}\n",
       " gutenberg\\_id & text\\\\\n",
       " <int> & <chr>\\\\\n",
       "\\hline\n",
       "\t 15 & Moby-Dick         \\\\\n",
       "\t 15 &                   \\\\\n",
       "\t 15 & or,               \\\\\n",
       "\t 15 &                   \\\\\n",
       "\t 15 & THE WHALE.        \\\\\n",
       "\t 15 &                   \\\\\n",
       "\t 15 & by Herman Melville\\\\\n",
       "\t 15 &                   \\\\\n",
       "\t ⋮ & ⋮\\\\\n",
       "\t 11231 & finger it was meant for, perhaps, moulders in the grave; a bank-note    \\\\\n",
       "\t 11231 & sent in swiftest charity:--he whom it would relieve, nor eats nor       \\\\\n",
       "\t 11231 & hungers any more; pardon for those who died despairing; hope for those  \\\\\n",
       "\t 11231 & who died unhoping; good tidings for those who died stifled by unrelieved\\\\\n",
       "\t 11231 & calamities.  On errands of life, these letters speed to death.          \\\\\n",
       "\t 11231 &                                                                         \\\\\n",
       "\t 11231 & Ah Bartleby!  Ah humanity!                                              \\\\\n",
       "\\end{tabular}\n"
      ],
      "text/markdown": [
       "\n",
       "A tibble: 50306 × 2\n",
       "\n",
       "| gutenberg_id &lt;int&gt; | text &lt;chr&gt; |\n",
       "|---|---|\n",
       "| 15 | Moby-Dick          |\n",
       "| 15 | <!----> |\n",
       "| 15 | or,                |\n",
       "| 15 | <!----> |\n",
       "| 15 | THE WHALE.         |\n",
       "| 15 | <!----> |\n",
       "| 15 | by Herman Melville |\n",
       "| 15 | <!----> |\n",
       "| ⋮ | ⋮ |\n",
       "| 11231 | finger it was meant for, perhaps, moulders in the grave; a bank-note     |\n",
       "| 11231 | sent in swiftest charity:--he whom it would relieve, nor eats nor        |\n",
       "| 11231 | hungers any more; pardon for those who died despairing; hope for those   |\n",
       "| 11231 | who died unhoping; good tidings for those who died stifled by unrelieved |\n",
       "| 11231 | calamities.  On errands of life, these letters speed to death.           |\n",
       "| 11231 | <!----> |\n",
       "| 11231 | Ah Bartleby!  Ah humanity!                                               |\n",
       "\n"
      ],
      "text/plain": [
       "      gutenberg_id\n",
       "1     15          \n",
       "2     15          \n",
       "3     15          \n",
       "4     15          \n",
       "5     15          \n",
       "6     15          \n",
       "7     15          \n",
       "8     15          \n",
       "⋮     ⋮           \n",
       "50300 11231       \n",
       "50301 11231       \n",
       "50302 11231       \n",
       "50303 11231       \n",
       "50304 11231       \n",
       "50305 11231       \n",
       "50306 11231       \n",
       "      text                                                                    \n",
       "1     Moby-Dick                                                               \n",
       "2                                                                             \n",
       "3     or,                                                                     \n",
       "4                                                                             \n",
       "5     THE WHALE.                                                              \n",
       "6                                                                             \n",
       "7     by Herman Melville                                                      \n",
       "8                                                                             \n",
       "⋮     ⋮                                                                       \n",
       "50300 finger it was meant for, perhaps, moulders in the grave; a bank-note    \n",
       "50301 sent in swiftest charity:--he whom it would relieve, nor eats nor       \n",
       "50302 hungers any more; pardon for those who died despairing; hope for those  \n",
       "50303 who died unhoping; good tidings for those who died stifled by unrelieved\n",
       "50304 calamities.  On errands of life, these letters speed to death.          \n",
       "50305                                                                         \n",
       "50306 Ah Bartleby!  Ah humanity!                                              "
      ]
     },
     "metadata": {},
     "output_type": "display_data"
    }
   ],
   "source": [
    "gutenberg_ids <- c(11231, 15, 10712, 1900)\n",
    "melville <- gutenberg_download(gutenberg_ids, mirror = \"http://mirrors.xmission.com/gutenberg/\")\n",
    "melville"
   ]
  },
  {
   "cell_type": "markdown",
   "metadata": {},
   "source": [
    "The results are returned in the form of a tibble with one row per each line of the text. We assign this tibble to the name `melville`, so that we may refer to it again later to view the contents of this table. \n"
   ]
  },
  {
   "cell_type": "markdown",
   "metadata": {},
   "source": [
    "__Exercise:__ Use the functions `gutenberg_works()` and `gutenberg_download()` to look up and retrieve a text you are interested in from Project Gutenberg. Unsure of an author or title to try? Check out [Project Gutenberg's top 100 works yesterday](https://www.gutenberg.org/browse/scores/top)!   "
   ]
  },
  {
   "cell_type": "code",
   "execution_count": null,
   "metadata": {},
   "outputs": [],
   "source": [
    "# Your code goes here! "
   ]
  },
  {
   "cell_type": "markdown",
   "metadata": {
    "tags": []
   },
   "source": [
    "Since ID numbers are cryptic to understand and it is not immediately clear that numbers like `15` actually refer to *Moby Dick*, let us recode each of the values according to their proper title. We will add a new column to this tibble `melville` with the corresponding titles.  "
   ]
  },
  {
   "cell_type": "code",
   "execution_count": 5,
   "metadata": {},
   "outputs": [
    {
     "data": {
      "text/html": [
       "<table class=\"dataframe\">\n",
       "<caption>A tibble: 50306 × 3</caption>\n",
       "<thead>\n",
       "\t<tr><th scope=col>gutenberg_id</th><th scope=col>text</th><th scope=col>title</th></tr>\n",
       "\t<tr><th scope=col>&lt;int&gt;</th><th scope=col>&lt;chr&gt;</th><th scope=col>&lt;chr&gt;</th></tr>\n",
       "</thead>\n",
       "<tbody>\n",
       "\t<tr><td>15</td><td>Moby-Dick         </td><td>Moby Dick</td></tr>\n",
       "\t<tr><td>15</td><td>                  </td><td>Moby Dick</td></tr>\n",
       "\t<tr><td>15</td><td>or,               </td><td>Moby Dick</td></tr>\n",
       "\t<tr><td>15</td><td>                  </td><td>Moby Dick</td></tr>\n",
       "\t<tr><td>15</td><td>THE WHALE.        </td><td>Moby Dick</td></tr>\n",
       "\t<tr><td>15</td><td>                  </td><td>Moby Dick</td></tr>\n",
       "\t<tr><td>15</td><td>by Herman Melville</td><td>Moby Dick</td></tr>\n",
       "\t<tr><td>15</td><td>                  </td><td>Moby Dick</td></tr>\n",
       "\t<tr><td>⋮</td><td>⋮</td><td>⋮</td></tr>\n",
       "\t<tr><td>11231</td><td>finger it was meant for, perhaps, moulders in the grave; a bank-note    </td><td>Bartleby, the Scrivener</td></tr>\n",
       "\t<tr><td>11231</td><td>sent in swiftest charity:--he whom it would relieve, nor eats nor       </td><td>Bartleby, the Scrivener</td></tr>\n",
       "\t<tr><td>11231</td><td>hungers any more; pardon for those who died despairing; hope for those  </td><td>Bartleby, the Scrivener</td></tr>\n",
       "\t<tr><td>11231</td><td>who died unhoping; good tidings for those who died stifled by unrelieved</td><td>Bartleby, the Scrivener</td></tr>\n",
       "\t<tr><td>11231</td><td>calamities.  On errands of life, these letters speed to death.          </td><td>Bartleby, the Scrivener</td></tr>\n",
       "\t<tr><td>11231</td><td>                                                                        </td><td>Bartleby, the Scrivener</td></tr>\n",
       "\t<tr><td>11231</td><td>Ah Bartleby!  Ah humanity!                                              </td><td>Bartleby, the Scrivener</td></tr>\n",
       "</tbody>\n",
       "</table>\n"
      ],
      "text/latex": [
       "A tibble: 50306 × 3\n",
       "\\begin{tabular}{lll}\n",
       " gutenberg\\_id & text & title\\\\\n",
       " <int> & <chr> & <chr>\\\\\n",
       "\\hline\n",
       "\t 15 & Moby-Dick          & Moby Dick\\\\\n",
       "\t 15 &                    & Moby Dick\\\\\n",
       "\t 15 & or,                & Moby Dick\\\\\n",
       "\t 15 &                    & Moby Dick\\\\\n",
       "\t 15 & THE WHALE.         & Moby Dick\\\\\n",
       "\t 15 &                    & Moby Dick\\\\\n",
       "\t 15 & by Herman Melville & Moby Dick\\\\\n",
       "\t 15 &                    & Moby Dick\\\\\n",
       "\t ⋮ & ⋮ & ⋮\\\\\n",
       "\t 11231 & finger it was meant for, perhaps, moulders in the grave; a bank-note     & Bartleby, the Scrivener\\\\\n",
       "\t 11231 & sent in swiftest charity:--he whom it would relieve, nor eats nor        & Bartleby, the Scrivener\\\\\n",
       "\t 11231 & hungers any more; pardon for those who died despairing; hope for those   & Bartleby, the Scrivener\\\\\n",
       "\t 11231 & who died unhoping; good tidings for those who died stifled by unrelieved & Bartleby, the Scrivener\\\\\n",
       "\t 11231 & calamities.  On errands of life, these letters speed to death.           & Bartleby, the Scrivener\\\\\n",
       "\t 11231 &                                                                          & Bartleby, the Scrivener\\\\\n",
       "\t 11231 & Ah Bartleby!  Ah humanity!                                               & Bartleby, the Scrivener\\\\\n",
       "\\end{tabular}\n"
      ],
      "text/markdown": [
       "\n",
       "A tibble: 50306 × 3\n",
       "\n",
       "| gutenberg_id &lt;int&gt; | text &lt;chr&gt; | title &lt;chr&gt; |\n",
       "|---|---|---|\n",
       "| 15 | Moby-Dick          | Moby Dick |\n",
       "| 15 | <!----> | Moby Dick |\n",
       "| 15 | or,                | Moby Dick |\n",
       "| 15 | <!----> | Moby Dick |\n",
       "| 15 | THE WHALE.         | Moby Dick |\n",
       "| 15 | <!----> | Moby Dick |\n",
       "| 15 | by Herman Melville | Moby Dick |\n",
       "| 15 | <!----> | Moby Dick |\n",
       "| ⋮ | ⋮ | ⋮ |\n",
       "| 11231 | finger it was meant for, perhaps, moulders in the grave; a bank-note     | Bartleby, the Scrivener |\n",
       "| 11231 | sent in swiftest charity:--he whom it would relieve, nor eats nor        | Bartleby, the Scrivener |\n",
       "| 11231 | hungers any more; pardon for those who died despairing; hope for those   | Bartleby, the Scrivener |\n",
       "| 11231 | who died unhoping; good tidings for those who died stifled by unrelieved | Bartleby, the Scrivener |\n",
       "| 11231 | calamities.  On errands of life, these letters speed to death.           | Bartleby, the Scrivener |\n",
       "| 11231 | <!----> | Bartleby, the Scrivener |\n",
       "| 11231 | Ah Bartleby!  Ah humanity!                                               | Bartleby, the Scrivener |\n",
       "\n"
      ],
      "text/plain": [
       "      gutenberg_id\n",
       "1     15          \n",
       "2     15          \n",
       "3     15          \n",
       "4     15          \n",
       "5     15          \n",
       "6     15          \n",
       "7     15          \n",
       "8     15          \n",
       "⋮     ⋮           \n",
       "50300 11231       \n",
       "50301 11231       \n",
       "50302 11231       \n",
       "50303 11231       \n",
       "50304 11231       \n",
       "50305 11231       \n",
       "50306 11231       \n",
       "      text                                                                    \n",
       "1     Moby-Dick                                                               \n",
       "2                                                                             \n",
       "3     or,                                                                     \n",
       "4                                                                             \n",
       "5     THE WHALE.                                                              \n",
       "6                                                                             \n",
       "7     by Herman Melville                                                      \n",
       "8                                                                             \n",
       "⋮     ⋮                                                                       \n",
       "50300 finger it was meant for, perhaps, moulders in the grave; a bank-note    \n",
       "50301 sent in swiftest charity:--he whom it would relieve, nor eats nor       \n",
       "50302 hungers any more; pardon for those who died despairing; hope for those  \n",
       "50303 who died unhoping; good tidings for those who died stifled by unrelieved\n",
       "50304 calamities.  On errands of life, these letters speed to death.          \n",
       "50305                                                                         \n",
       "50306 Ah Bartleby!  Ah humanity!                                              \n",
       "      title                  \n",
       "1     Moby Dick              \n",
       "2     Moby Dick              \n",
       "3     Moby Dick              \n",
       "4     Moby Dick              \n",
       "5     Moby Dick              \n",
       "6     Moby Dick              \n",
       "7     Moby Dick              \n",
       "8     Moby Dick              \n",
       "⋮     ⋮                      \n",
       "50300 Bartleby, the Scrivener\n",
       "50301 Bartleby, the Scrivener\n",
       "50302 Bartleby, the Scrivener\n",
       "50303 Bartleby, the Scrivener\n",
       "50304 Bartleby, the Scrivener\n",
       "50305 Bartleby, the Scrivener\n",
       "50306 Bartleby, the Scrivener"
      ]
     },
     "metadata": {},
     "output_type": "display_data"
    }
   ],
   "source": [
    "melville <- melville %>%\n",
    "  mutate(title = recode(gutenberg_id, \n",
    "                               '15' = 'Moby Dick', \n",
    "                               '11231' = 'Bartleby, the Scrivener',\n",
    "                               '10712' = 'White Jacket',\n",
    "                               '1900' = 'Typee: A Romance of the South Seas'))\n",
    "melville"
   ]
  },
  {
   "cell_type": "markdown",
   "metadata": {},
   "source": [
    "## 2. In pursuit of \"tidy text\" \n",
    "\n",
    "A goal of this workshop is learning how to do textual analysis using \"tidy data\" principles. This means that a prerequisite to conducting any kind of textual analysis is to first preprocess, or *tidy*, the text. "
   ]
  },
  {
   "cell_type": "markdown",
   "metadata": {},
   "source": [
    "### 2.1 Why bother making text \"tidy\"? Why not just leave it as-is? \n",
    "\n",
    "Hadley Wickham, a distinguished data scientist and main contributor to the `tidyverse`, offers the following amendment to the famous Leo Tolstoy quote in his seminal work [Tidy Data](http://www.jstatsoft.org/v59/i10/paper): \n",
    "\n",
    "> \"Happy families are all alike; every unhappy family is unhappy in its own way.\" –– Leo Tolstoy\n",
    "\n",
    "> \"Tidy datasets are all alike, but every messy dataset is messy in its own way.\" –– Hadley Wickham\n",
    "\n",
    "Tidy data gives a consistent way for organizing data in R. It requires investing some upfront work, but bringing your data into \"tidyness\" (or, perhaps better said, the \"tidyverse\"?) means much less time munging or \"wrangling\" your data from one representation to another. This translates to more time on analysis.  \n",
    "\n",
    "Put more simply, tidy data equals consistency:\n",
    "\n",
    "<center>\n",
    "<img src=\"https://raw.githubusercontent.com/allisonhorst/stats-illustrations/master/rstats-artwork/tidydata_3.jpg\" style=\"width: 500px;\"/>\n",
    "</center>\n",
    "\n",
    "__Image credits__: \"Illustrations from the Openscapes blog Tidy Data for reproducibility, efficiency, and collaboration\" by Julia Lowndes and Allison Horst. \n",
    "\n",
    "Tidy data principles do well when extended to *textual analysis* as they can make text mining tasks easier to accomplish. Treating text as a table of individual words allows us to manipulate, summarize, and visualize text characteristics.  \n"
   ]
  },
  {
   "cell_type": "markdown",
   "metadata": {},
   "source": [
    "### 2.2 Tokens and tokenization: the basic meaningful unit in text analysis \n",
    "\n",
    "The basic meaningful unit in text analysis is the *token*. It is usually a word, but it can be more or less granular depending on the context, e.g., \"sentence-like\" units or vowel units. For the purposes of this workshop, the token will always represent the word unit.\n",
    "\n",
    "*Tokenization* is the process of splitting text into tokens. For instance, here are a few sentences from *Moby Dick*: "
   ]
  },
  {
   "cell_type": "code",
   "execution_count": 7,
   "metadata": {},
   "outputs": [],
   "source": [
    "some_moby_sentences <- c(\n",
    "  \"Call me Ishmael.\", \n",
    "  \"Some years ago--never mind how long precisely--having little or no money in my purse,\",\n",
    "  \"and nothing particular to interest me on shore,\",\n",
    "  \"I thought I would sail about a little and see the watery part of the world.\")"
   ]
  },
  {
   "cell_type": "markdown",
   "metadata": {},
   "source": [
    "We are fortunate that tokens in standard written English are delimited by white space `\" \"`. So tokenization of these sentences can be easy to accomplish using a string manipulation function like `str_split()` from the `stringr` package."
   ]
  },
  {
   "cell_type": "code",
   "execution_count": 8,
   "metadata": {},
   "outputs": [
    {
     "data": {
      "text/html": [
       "<ol>\n",
       "\t<li><style>\n",
       ".list-inline {list-style: none; margin:0; padding: 0}\n",
       ".list-inline>li {display: inline-block}\n",
       ".list-inline>li:not(:last-child)::after {content: \"\\00b7\"; padding: 0 .5ex}\n",
       "</style>\n",
       "<ol class=list-inline><li>'Call'</li><li>'me'</li><li>'Ishmael.'</li></ol>\n",
       "</li>\n",
       "\t<li><style>\n",
       ".list-inline {list-style: none; margin:0; padding: 0}\n",
       ".list-inline>li {display: inline-block}\n",
       ".list-inline>li:not(:last-child)::after {content: \"\\00b7\"; padding: 0 .5ex}\n",
       "</style>\n",
       "<ol class=list-inline><li>'Some'</li><li>'years'</li><li>'ago--never'</li><li>'mind'</li><li>'how'</li><li>'long'</li><li>'precisely--having'</li><li>'little'</li><li>'or'</li><li>'no'</li><li>'money'</li><li>'in'</li><li>'my'</li><li>'purse,'</li></ol>\n",
       "</li>\n",
       "\t<li><style>\n",
       ".list-inline {list-style: none; margin:0; padding: 0}\n",
       ".list-inline>li {display: inline-block}\n",
       ".list-inline>li:not(:last-child)::after {content: \"\\00b7\"; padding: 0 .5ex}\n",
       "</style>\n",
       "<ol class=list-inline><li>'and'</li><li>'nothing'</li><li>'particular'</li><li>'to'</li><li>'interest'</li><li>'me'</li><li>'on'</li><li>'shore,'</li></ol>\n",
       "</li>\n",
       "\t<li><style>\n",
       ".list-inline {list-style: none; margin:0; padding: 0}\n",
       ".list-inline>li {display: inline-block}\n",
       ".list-inline>li:not(:last-child)::after {content: \"\\00b7\"; padding: 0 .5ex}\n",
       "</style>\n",
       "<ol class=list-inline><li>'I'</li><li>'thought'</li><li>'I'</li><li>'would'</li><li>'sail'</li><li>'about'</li><li>'a'</li><li>'little'</li><li>'and'</li><li>'see'</li><li>'the'</li><li>'watery'</li><li>'part'</li><li>'of'</li><li>'the'</li><li>'world.'</li></ol>\n",
       "</li>\n",
       "</ol>\n"
      ],
      "text/latex": [
       "\\begin{enumerate}\n",
       "\\item \\begin{enumerate*}\n",
       "\\item 'Call'\n",
       "\\item 'me'\n",
       "\\item 'Ishmael.'\n",
       "\\end{enumerate*}\n",
       "\n",
       "\\item \\begin{enumerate*}\n",
       "\\item 'Some'\n",
       "\\item 'years'\n",
       "\\item 'ago--never'\n",
       "\\item 'mind'\n",
       "\\item 'how'\n",
       "\\item 'long'\n",
       "\\item 'precisely--having'\n",
       "\\item 'little'\n",
       "\\item 'or'\n",
       "\\item 'no'\n",
       "\\item 'money'\n",
       "\\item 'in'\n",
       "\\item 'my'\n",
       "\\item 'purse,'\n",
       "\\end{enumerate*}\n",
       "\n",
       "\\item \\begin{enumerate*}\n",
       "\\item 'and'\n",
       "\\item 'nothing'\n",
       "\\item 'particular'\n",
       "\\item 'to'\n",
       "\\item 'interest'\n",
       "\\item 'me'\n",
       "\\item 'on'\n",
       "\\item 'shore,'\n",
       "\\end{enumerate*}\n",
       "\n",
       "\\item \\begin{enumerate*}\n",
       "\\item 'I'\n",
       "\\item 'thought'\n",
       "\\item 'I'\n",
       "\\item 'would'\n",
       "\\item 'sail'\n",
       "\\item 'about'\n",
       "\\item 'a'\n",
       "\\item 'little'\n",
       "\\item 'and'\n",
       "\\item 'see'\n",
       "\\item 'the'\n",
       "\\item 'watery'\n",
       "\\item 'part'\n",
       "\\item 'of'\n",
       "\\item 'the'\n",
       "\\item 'world.'\n",
       "\\end{enumerate*}\n",
       "\n",
       "\\end{enumerate}\n"
      ],
      "text/markdown": [
       "1. 1. 'Call'\n",
       "2. 'me'\n",
       "3. 'Ishmael.'\n",
       "\n",
       "\n",
       "\n",
       "2. 1. 'Some'\n",
       "2. 'years'\n",
       "3. 'ago--never'\n",
       "4. 'mind'\n",
       "5. 'how'\n",
       "6. 'long'\n",
       "7. 'precisely--having'\n",
       "8. 'little'\n",
       "9. 'or'\n",
       "10. 'no'\n",
       "11. 'money'\n",
       "12. 'in'\n",
       "13. 'my'\n",
       "14. 'purse,'\n",
       "\n",
       "\n",
       "\n",
       "3. 1. 'and'\n",
       "2. 'nothing'\n",
       "3. 'particular'\n",
       "4. 'to'\n",
       "5. 'interest'\n",
       "6. 'me'\n",
       "7. 'on'\n",
       "8. 'shore,'\n",
       "\n",
       "\n",
       "\n",
       "4. 1. 'I'\n",
       "2. 'thought'\n",
       "3. 'I'\n",
       "4. 'would'\n",
       "5. 'sail'\n",
       "6. 'about'\n",
       "7. 'a'\n",
       "8. 'little'\n",
       "9. 'and'\n",
       "10. 'see'\n",
       "11. 'the'\n",
       "12. 'watery'\n",
       "13. 'part'\n",
       "14. 'of'\n",
       "15. 'the'\n",
       "16. 'world.'\n",
       "\n",
       "\n",
       "\n",
       "\n",
       "\n"
      ],
      "text/plain": [
       "[[1]]\n",
       "[1] \"Call\"     \"me\"       \"Ishmael.\"\n",
       "\n",
       "[[2]]\n",
       " [1] \"Some\"              \"years\"             \"ago--never\"       \n",
       " [4] \"mind\"              \"how\"               \"long\"             \n",
       " [7] \"precisely--having\" \"little\"            \"or\"               \n",
       "[10] \"no\"                \"money\"             \"in\"               \n",
       "[13] \"my\"                \"purse,\"           \n",
       "\n",
       "[[3]]\n",
       "[1] \"and\"        \"nothing\"    \"particular\" \"to\"         \"interest\"  \n",
       "[6] \"me\"         \"on\"         \"shore,\"    \n",
       "\n",
       "[[4]]\n",
       " [1] \"I\"       \"thought\" \"I\"       \"would\"   \"sail\"    \"about\"   \"a\"      \n",
       " [8] \"little\"  \"and\"     \"see\"     \"the\"     \"watery\"  \"part\"    \"of\"     \n",
       "[15] \"the\"     \"world.\" \n"
      ]
     },
     "metadata": {},
     "output_type": "display_data"
    }
   ],
   "source": [
    "tokenized <- some_moby_sentences %>%\n",
    "  str_split(\" \")\n",
    "tokenized"
   ]
  },
  {
   "cell_type": "markdown",
   "metadata": {},
   "source": [
    "By the way, the `%>%` operator used above is known as the \"pipe\" operator. It can be read as saying \"and then...\". Thus, the above code could be read as: \"take the string in the name `some_moby_sentences` *and then* split it by the white space character.\" Formally, `x %>% f(y)` is equivalent to saying `f(x, y)`. "
   ]
  },
  {
   "cell_type": "markdown",
   "metadata": {},
   "source": [
    "Each sentence in `tokenized` has been split into tokens, and we can access any of them using list and vector R notation."
   ]
  },
  {
   "cell_type": "code",
   "execution_count": 9,
   "metadata": {},
   "outputs": [
    {
     "data": {
      "text/html": [
       "'Ishmael.'"
      ],
      "text/latex": [
       "'Ishmael.'"
      ],
      "text/markdown": [
       "'Ishmael.'"
      ],
      "text/plain": [
       "[1] \"Ishmael.\""
      ]
     },
     "metadata": {},
     "output_type": "display_data"
    }
   ],
   "source": [
    "tokenized[[1]][3]"
   ]
  },
  {
   "cell_type": "markdown",
   "metadata": {},
   "source": [
    "__Exercise:__ Can you figure out how we could reference the token \"money\" in the second sentence? "
   ]
  },
  {
   "cell_type": "code",
   "execution_count": 10,
   "metadata": {},
   "outputs": [],
   "source": [
    "# Your code goes here!"
   ]
  },
  {
   "cell_type": "markdown",
   "metadata": {},
   "source": [
    "### 2.3 Tidying *Moby Dick*"
   ]
  },
  {
   "cell_type": "markdown",
   "metadata": {},
   "source": [
    "To explore these tidy principles in greater detail, let us return to our corpus of Melville prose. For now, we will concentrate our efforts on just a single work: *Moby Dick*. So we will collect all rows from `melville` that correspond to the Gutenberg ID associated with this title, `15`. "
   ]
  },
  {
   "cell_type": "code",
   "execution_count": 6,
   "metadata": {},
   "outputs": [],
   "source": [
    "moby_dick <- melville %>%\n",
    "  filter(title == \"Moby Dick\")"
   ]
  },
  {
   "cell_type": "markdown",
   "metadata": {},
   "source": [
    "The name `moby_dick` refers to the table containing the text for *Moby Dick*. To better understand this table, let us examine the text from line numbers 500 to 515.  "
   ]
  },
  {
   "cell_type": "code",
   "execution_count": 8,
   "metadata": {},
   "outputs": [
    {
     "data": {
      "text/html": [
       "<table class=\"dataframe\">\n",
       "<caption>A tibble: 16 × 3</caption>\n",
       "<thead>\n",
       "\t<tr><th scope=col>gutenberg_id</th><th scope=col>text</th><th scope=col>title</th></tr>\n",
       "\t<tr><th scope=col>&lt;int&gt;</th><th scope=col>&lt;chr&gt;</th><th scope=col>&lt;chr&gt;</th></tr>\n",
       "</thead>\n",
       "<tbody>\n",
       "\t<tr><td>15</td><td>                                                                       </td><td>Moby Dick</td></tr>\n",
       "\t<tr><td>15</td><td>“She came to bespeak a monument for her first love, who had been killed</td><td>Moby Dick</td></tr>\n",
       "\t<tr><td>15</td><td>by a whale in the Pacific ocean, no less than forty years ago.”        </td><td>Moby Dick</td></tr>\n",
       "\t<tr><td>15</td><td>—_Ibid_.                                                               </td><td>Moby Dick</td></tr>\n",
       "\t<tr><td>15</td><td>                                                                       </td><td>Moby Dick</td></tr>\n",
       "\t<tr><td>15</td><td>“No, Sir, ’tis a Right Whale,” answered Tom; “I saw his spout; he threw</td><td>Moby Dick</td></tr>\n",
       "\t<tr><td>15</td><td>up a pair of as pretty rainbows as a Christian would wish to look at.  </td><td>Moby Dick</td></tr>\n",
       "\t<tr><td>15</td><td>He’s a raal oil-butt, that fellow!” —_Cooper’s Pilot_.                 </td><td>Moby Dick</td></tr>\n",
       "\t<tr><td>⋮</td><td>⋮</td><td>⋮</td></tr>\n",
       "\t<tr><td>15</td><td>“The papers were brought in, and we saw in the Berlin Gazette that     </td><td>Moby Dick</td></tr>\n",
       "\t<tr><td>15</td><td>whales had been introduced on the stage there.” —_Eckermann’s          </td><td>Moby Dick</td></tr>\n",
       "\t<tr><td>15</td><td>Conversations with Goethe_.                                            </td><td>Moby Dick</td></tr>\n",
       "\t<tr><td>15</td><td>                                                                       </td><td>Moby Dick</td></tr>\n",
       "\t<tr><td>15</td><td>“My God! Mr. Chace, what is the matter?” I answered, “we have been     </td><td>Moby Dick</td></tr>\n",
       "\t<tr><td>15</td><td>stove by a whale.” —“_Narrative of the Shipwreck of the Whale Ship     </td><td>Moby Dick</td></tr>\n",
       "\t<tr><td>15</td><td>Essex of Nantucket, which was attacked and finally destroyed by a large</td><td>Moby Dick</td></tr>\n",
       "</tbody>\n",
       "</table>\n"
      ],
      "text/latex": [
       "A tibble: 16 × 3\n",
       "\\begin{tabular}{lll}\n",
       " gutenberg\\_id & text & title\\\\\n",
       " <int> & <chr> & <chr>\\\\\n",
       "\\hline\n",
       "\t 15 &                                                                         & Moby Dick\\\\\n",
       "\t 15 & “She came to bespeak a monument for her first love, who had been killed & Moby Dick\\\\\n",
       "\t 15 & by a whale in the Pacific ocean, no less than forty years ago.”         & Moby Dick\\\\\n",
       "\t 15 & —\\_Ibid\\_.                                                                & Moby Dick\\\\\n",
       "\t 15 &                                                                         & Moby Dick\\\\\n",
       "\t 15 & “No, Sir, ’tis a Right Whale,” answered Tom; “I saw his spout; he threw & Moby Dick\\\\\n",
       "\t 15 & up a pair of as pretty rainbows as a Christian would wish to look at.   & Moby Dick\\\\\n",
       "\t 15 & He’s a raal oil-butt, that fellow!” —\\_Cooper’s Pilot\\_.                  & Moby Dick\\\\\n",
       "\t ⋮ & ⋮ & ⋮\\\\\n",
       "\t 15 & “The papers were brought in, and we saw in the Berlin Gazette that      & Moby Dick\\\\\n",
       "\t 15 & whales had been introduced on the stage there.” —\\_Eckermann’s           & Moby Dick\\\\\n",
       "\t 15 & Conversations with Goethe\\_.                                             & Moby Dick\\\\\n",
       "\t 15 &                                                                         & Moby Dick\\\\\n",
       "\t 15 & “My God! Mr. Chace, what is the matter?” I answered, “we have been      & Moby Dick\\\\\n",
       "\t 15 & stove by a whale.” —“\\_Narrative of the Shipwreck of the Whale Ship      & Moby Dick\\\\\n",
       "\t 15 & Essex of Nantucket, which was attacked and finally destroyed by a large & Moby Dick\\\\\n",
       "\\end{tabular}\n"
      ],
      "text/markdown": [
       "\n",
       "A tibble: 16 × 3\n",
       "\n",
       "| gutenberg_id &lt;int&gt; | text &lt;chr&gt; | title &lt;chr&gt; |\n",
       "|---|---|---|\n",
       "| 15 | <!----> | Moby Dick |\n",
       "| 15 | “She came to bespeak a monument for her first love, who had been killed | Moby Dick |\n",
       "| 15 | by a whale in the Pacific ocean, no less than forty years ago.”         | Moby Dick |\n",
       "| 15 | —_Ibid_.                                                                | Moby Dick |\n",
       "| 15 | <!----> | Moby Dick |\n",
       "| 15 | “No, Sir, ’tis a Right Whale,” answered Tom; “I saw his spout; he threw | Moby Dick |\n",
       "| 15 | up a pair of as pretty rainbows as a Christian would wish to look at.   | Moby Dick |\n",
       "| 15 | He’s a raal oil-butt, that fellow!” —_Cooper’s Pilot_.                  | Moby Dick |\n",
       "| ⋮ | ⋮ | ⋮ |\n",
       "| 15 | “The papers were brought in, and we saw in the Berlin Gazette that      | Moby Dick |\n",
       "| 15 | whales had been introduced on the stage there.” —_Eckermann’s           | Moby Dick |\n",
       "| 15 | Conversations with Goethe_.                                             | Moby Dick |\n",
       "| 15 | <!----> | Moby Dick |\n",
       "| 15 | “My God! Mr. Chace, what is the matter?” I answered, “we have been      | Moby Dick |\n",
       "| 15 | stove by a whale.” —“_Narrative of the Shipwreck of the Whale Ship      | Moby Dick |\n",
       "| 15 | Essex of Nantucket, which was attacked and finally destroyed by a large | Moby Dick |\n",
       "\n"
      ],
      "text/plain": [
       "   gutenberg_id\n",
       "1  15          \n",
       "2  15          \n",
       "3  15          \n",
       "4  15          \n",
       "5  15          \n",
       "6  15          \n",
       "7  15          \n",
       "8  15          \n",
       "⋮  ⋮           \n",
       "10 15          \n",
       "11 15          \n",
       "12 15          \n",
       "13 15          \n",
       "14 15          \n",
       "15 15          \n",
       "16 15          \n",
       "   text                                                                   \n",
       "1                                                                         \n",
       "2  “She came to bespeak a monument for her first love, who had been killed\n",
       "3  by a whale in the Pacific ocean, no less than forty years ago.”        \n",
       "4  —_Ibid_.                                                               \n",
       "5                                                                         \n",
       "6  “No, Sir, ’tis a Right Whale,” answered Tom; “I saw his spout; he threw\n",
       "7  up a pair of as pretty rainbows as a Christian would wish to look at.  \n",
       "8  He’s a raal oil-butt, that fellow!” —_Cooper’s Pilot_.                 \n",
       "⋮  ⋮                                                                      \n",
       "10 “The papers were brought in, and we saw in the Berlin Gazette that     \n",
       "11 whales had been introduced on the stage there.” —_Eckermann’s          \n",
       "12 Conversations with Goethe_.                                            \n",
       "13                                                                        \n",
       "14 “My God! Mr. Chace, what is the matter?” I answered, “we have been     \n",
       "15 stove by a whale.” —“_Narrative of the Shipwreck of the Whale Ship     \n",
       "16 Essex of Nantucket, which was attacked and finally destroyed by a large\n",
       "   title    \n",
       "1  Moby Dick\n",
       "2  Moby Dick\n",
       "3  Moby Dick\n",
       "4  Moby Dick\n",
       "5  Moby Dick\n",
       "6  Moby Dick\n",
       "7  Moby Dick\n",
       "8  Moby Dick\n",
       "⋮  ⋮        \n",
       "10 Moby Dick\n",
       "11 Moby Dick\n",
       "12 Moby Dick\n",
       "13 Moby Dick\n",
       "14 Moby Dick\n",
       "15 Moby Dick\n",
       "16 Moby Dick"
      ]
     },
     "metadata": {},
     "output_type": "display_data"
    }
   ],
   "source": [
    "moby_dick %>%\n",
    "  slice(500:515)"
   ]
  },
  {
   "cell_type": "markdown",
   "metadata": {},
   "source": [
    "Text that is tidy is a *table with one token per row*. Assuming that the text is given to us in tabular form (like `moby_dick`), we can break text into tokens and transform it to a tidy structure in one go using the function `unnest_tokens()` from the `tidytext` package."
   ]
  },
  {
   "cell_type": "code",
   "execution_count": 9,
   "metadata": {},
   "outputs": [
    {
     "data": {
      "text/html": [
       "<table class=\"dataframe\">\n",
       "<caption>A tibble: 216937 × 3</caption>\n",
       "<thead>\n",
       "\t<tr><th scope=col>gutenberg_id</th><th scope=col>title</th><th scope=col>word</th></tr>\n",
       "\t<tr><th scope=col>&lt;int&gt;</th><th scope=col>&lt;chr&gt;</th><th scope=col>&lt;chr&gt;</th></tr>\n",
       "</thead>\n",
       "<tbody>\n",
       "\t<tr><td>15</td><td>Moby Dick</td><td>moby    </td></tr>\n",
       "\t<tr><td>15</td><td>Moby Dick</td><td>dick    </td></tr>\n",
       "\t<tr><td>15</td><td>Moby Dick</td><td>or      </td></tr>\n",
       "\t<tr><td>15</td><td>Moby Dick</td><td>the     </td></tr>\n",
       "\t<tr><td>15</td><td>Moby Dick</td><td>whale   </td></tr>\n",
       "\t<tr><td>15</td><td>Moby Dick</td><td>by      </td></tr>\n",
       "\t<tr><td>15</td><td>Moby Dick</td><td>herman  </td></tr>\n",
       "\t<tr><td>15</td><td>Moby Dick</td><td>melville</td></tr>\n",
       "\t<tr><td>⋮</td><td>⋮</td><td>⋮</td></tr>\n",
       "\t<tr><td>15</td><td>Moby Dick</td><td>her     </td></tr>\n",
       "\t<tr><td>15</td><td>Moby Dick</td><td>missing </td></tr>\n",
       "\t<tr><td>15</td><td>Moby Dick</td><td>children</td></tr>\n",
       "\t<tr><td>15</td><td>Moby Dick</td><td>only    </td></tr>\n",
       "\t<tr><td>15</td><td>Moby Dick</td><td>found   </td></tr>\n",
       "\t<tr><td>15</td><td>Moby Dick</td><td>another </td></tr>\n",
       "\t<tr><td>15</td><td>Moby Dick</td><td>orphan  </td></tr>\n",
       "</tbody>\n",
       "</table>\n"
      ],
      "text/latex": [
       "A tibble: 216937 × 3\n",
       "\\begin{tabular}{lll}\n",
       " gutenberg\\_id & title & word\\\\\n",
       " <int> & <chr> & <chr>\\\\\n",
       "\\hline\n",
       "\t 15 & Moby Dick & moby    \\\\\n",
       "\t 15 & Moby Dick & dick    \\\\\n",
       "\t 15 & Moby Dick & or      \\\\\n",
       "\t 15 & Moby Dick & the     \\\\\n",
       "\t 15 & Moby Dick & whale   \\\\\n",
       "\t 15 & Moby Dick & by      \\\\\n",
       "\t 15 & Moby Dick & herman  \\\\\n",
       "\t 15 & Moby Dick & melville\\\\\n",
       "\t ⋮ & ⋮ & ⋮\\\\\n",
       "\t 15 & Moby Dick & her     \\\\\n",
       "\t 15 & Moby Dick & missing \\\\\n",
       "\t 15 & Moby Dick & children\\\\\n",
       "\t 15 & Moby Dick & only    \\\\\n",
       "\t 15 & Moby Dick & found   \\\\\n",
       "\t 15 & Moby Dick & another \\\\\n",
       "\t 15 & Moby Dick & orphan  \\\\\n",
       "\\end{tabular}\n"
      ],
      "text/markdown": [
       "\n",
       "A tibble: 216937 × 3\n",
       "\n",
       "| gutenberg_id &lt;int&gt; | title &lt;chr&gt; | word &lt;chr&gt; |\n",
       "|---|---|---|\n",
       "| 15 | Moby Dick | moby     |\n",
       "| 15 | Moby Dick | dick     |\n",
       "| 15 | Moby Dick | or       |\n",
       "| 15 | Moby Dick | the      |\n",
       "| 15 | Moby Dick | whale    |\n",
       "| 15 | Moby Dick | by       |\n",
       "| 15 | Moby Dick | herman   |\n",
       "| 15 | Moby Dick | melville |\n",
       "| ⋮ | ⋮ | ⋮ |\n",
       "| 15 | Moby Dick | her      |\n",
       "| 15 | Moby Dick | missing  |\n",
       "| 15 | Moby Dick | children |\n",
       "| 15 | Moby Dick | only     |\n",
       "| 15 | Moby Dick | found    |\n",
       "| 15 | Moby Dick | another  |\n",
       "| 15 | Moby Dick | orphan   |\n",
       "\n"
      ],
      "text/plain": [
       "       gutenberg_id title     word    \n",
       "1      15           Moby Dick moby    \n",
       "2      15           Moby Dick dick    \n",
       "3      15           Moby Dick or      \n",
       "4      15           Moby Dick the     \n",
       "5      15           Moby Dick whale   \n",
       "6      15           Moby Dick by      \n",
       "7      15           Moby Dick herman  \n",
       "8      15           Moby Dick melville\n",
       "⋮      ⋮            ⋮         ⋮       \n",
       "216931 15           Moby Dick her     \n",
       "216932 15           Moby Dick missing \n",
       "216933 15           Moby Dick children\n",
       "216934 15           Moby Dick only    \n",
       "216935 15           Moby Dick found   \n",
       "216936 15           Moby Dick another \n",
       "216937 15           Moby Dick orphan  "
      ]
     },
     "metadata": {},
     "output_type": "display_data"
    }
   ],
   "source": [
    "tidy_moby_dick <- moby_dick %>%\n",
    "  unnest_tokens(word, text)\n",
    "tidy_moby_dick"
   ]
  },
  {
   "cell_type": "markdown",
   "metadata": {},
   "source": [
    "How about we try applying the same `slice()` function, but now on `tidy_moby_dick` instead?\n"
   ]
  },
  {
   "cell_type": "code",
   "execution_count": 10,
   "metadata": {},
   "outputs": [
    {
     "data": {
      "text/html": [
       "<table class=\"dataframe\">\n",
       "<caption>A tibble: 21 × 3</caption>\n",
       "<thead>\n",
       "\t<tr><th scope=col>gutenberg_id</th><th scope=col>title</th><th scope=col>word</th></tr>\n",
       "\t<tr><th scope=col>&lt;int&gt;</th><th scope=col>&lt;chr&gt;</th><th scope=col>&lt;chr&gt;</th></tr>\n",
       "</thead>\n",
       "<tbody>\n",
       "\t<tr><td>15</td><td>Moby Dick</td><td>ciii       </td></tr>\n",
       "\t<tr><td>15</td><td>Moby Dick</td><td>measurement</td></tr>\n",
       "\t<tr><td>15</td><td>Moby Dick</td><td>of         </td></tr>\n",
       "\t<tr><td>15</td><td>Moby Dick</td><td>the        </td></tr>\n",
       "\t<tr><td>15</td><td>Moby Dick</td><td>whale’s    </td></tr>\n",
       "\t<tr><td>15</td><td>Moby Dick</td><td>skeleton   </td></tr>\n",
       "\t<tr><td>15</td><td>Moby Dick</td><td>chapter    </td></tr>\n",
       "\t<tr><td>15</td><td>Moby Dick</td><td>civ        </td></tr>\n",
       "\t<tr><td>⋮</td><td>⋮</td><td>⋮</td></tr>\n",
       "\t<tr><td>15</td><td>Moby Dick</td><td>the     </td></tr>\n",
       "\t<tr><td>15</td><td>Moby Dick</td><td>whale   </td></tr>\n",
       "\t<tr><td>15</td><td>Moby Dick</td><td>diminish</td></tr>\n",
       "\t<tr><td>15</td><td>Moby Dick</td><td>chapter </td></tr>\n",
       "\t<tr><td>15</td><td>Moby Dick</td><td>cvi     </td></tr>\n",
       "\t<tr><td>15</td><td>Moby Dick</td><td>ahab’s  </td></tr>\n",
       "\t<tr><td>15</td><td>Moby Dick</td><td>leg     </td></tr>\n",
       "</tbody>\n",
       "</table>\n"
      ],
      "text/latex": [
       "A tibble: 21 × 3\n",
       "\\begin{tabular}{lll}\n",
       " gutenberg\\_id & title & word\\\\\n",
       " <int> & <chr> & <chr>\\\\\n",
       "\\hline\n",
       "\t 15 & Moby Dick & ciii       \\\\\n",
       "\t 15 & Moby Dick & measurement\\\\\n",
       "\t 15 & Moby Dick & of         \\\\\n",
       "\t 15 & Moby Dick & the        \\\\\n",
       "\t 15 & Moby Dick & whale’s    \\\\\n",
       "\t 15 & Moby Dick & skeleton   \\\\\n",
       "\t 15 & Moby Dick & chapter    \\\\\n",
       "\t 15 & Moby Dick & civ        \\\\\n",
       "\t ⋮ & ⋮ & ⋮\\\\\n",
       "\t 15 & Moby Dick & the     \\\\\n",
       "\t 15 & Moby Dick & whale   \\\\\n",
       "\t 15 & Moby Dick & diminish\\\\\n",
       "\t 15 & Moby Dick & chapter \\\\\n",
       "\t 15 & Moby Dick & cvi     \\\\\n",
       "\t 15 & Moby Dick & ahab’s  \\\\\n",
       "\t 15 & Moby Dick & leg     \\\\\n",
       "\\end{tabular}\n"
      ],
      "text/markdown": [
       "\n",
       "A tibble: 21 × 3\n",
       "\n",
       "| gutenberg_id &lt;int&gt; | title &lt;chr&gt; | word &lt;chr&gt; |\n",
       "|---|---|---|\n",
       "| 15 | Moby Dick | ciii        |\n",
       "| 15 | Moby Dick | measurement |\n",
       "| 15 | Moby Dick | of          |\n",
       "| 15 | Moby Dick | the         |\n",
       "| 15 | Moby Dick | whale’s     |\n",
       "| 15 | Moby Dick | skeleton    |\n",
       "| 15 | Moby Dick | chapter     |\n",
       "| 15 | Moby Dick | civ         |\n",
       "| ⋮ | ⋮ | ⋮ |\n",
       "| 15 | Moby Dick | the      |\n",
       "| 15 | Moby Dick | whale    |\n",
       "| 15 | Moby Dick | diminish |\n",
       "| 15 | Moby Dick | chapter  |\n",
       "| 15 | Moby Dick | cvi      |\n",
       "| 15 | Moby Dick | ahab’s   |\n",
       "| 15 | Moby Dick | leg      |\n",
       "\n"
      ],
      "text/plain": [
       "   gutenberg_id title     word       \n",
       "1  15           Moby Dick ciii       \n",
       "2  15           Moby Dick measurement\n",
       "3  15           Moby Dick of         \n",
       "4  15           Moby Dick the        \n",
       "5  15           Moby Dick whale’s    \n",
       "6  15           Moby Dick skeleton   \n",
       "7  15           Moby Dick chapter    \n",
       "8  15           Moby Dick civ        \n",
       "⋮  ⋮            ⋮         ⋮          \n",
       "15 15           Moby Dick the        \n",
       "16 15           Moby Dick whale      \n",
       "17 15           Moby Dick diminish   \n",
       "18 15           Moby Dick chapter    \n",
       "19 15           Moby Dick cvi        \n",
       "20 15           Moby Dick ahab’s     \n",
       "21 15           Moby Dick leg        "
      ]
     },
     "metadata": {},
     "output_type": "display_data"
    }
   ],
   "source": [
    "tidy_moby_dick %>%\n",
    "  slice(500:520)"
   ]
  },
  {
   "cell_type": "markdown",
   "metadata": {},
   "source": [
    "Note how each row of this table contains just one token, unlike `moby_dick` which gave a row for each line. When text is in this form, we say it follows a *one-token-per-row structure* and, therefore, is tidy."
   ]
  },
  {
   "cell_type": "markdown",
   "metadata": {},
   "source": [
    "### 2.4 Stopwords \n",
    "\n",
    "With our text ready in tidy form, we can start answering some basic questions about the text. For example: *what are the most popular words in Moby Dick?* \n",
    "\n",
    "We can answer this using the function `count()` from the tibble manipulation package `dplyr`:\n"
   ]
  },
  {
   "cell_type": "code",
   "execution_count": 11,
   "metadata": {},
   "outputs": [
    {
     "data": {
      "text/html": [
       "<table class=\"dataframe\">\n",
       "<caption>A tibble: 17848 × 2</caption>\n",
       "<thead>\n",
       "\t<tr><th scope=col>word</th><th scope=col>n</th></tr>\n",
       "\t<tr><th scope=col>&lt;chr&gt;</th><th scope=col>&lt;int&gt;</th></tr>\n",
       "</thead>\n",
       "<tbody>\n",
       "\t<tr><td>the </td><td>14521</td></tr>\n",
       "\t<tr><td>of  </td><td> 6611</td></tr>\n",
       "\t<tr><td>and </td><td> 6445</td></tr>\n",
       "\t<tr><td>a   </td><td> 4717</td></tr>\n",
       "\t<tr><td>to  </td><td> 4628</td></tr>\n",
       "\t<tr><td>in  </td><td> 4175</td></tr>\n",
       "\t<tr><td>that</td><td> 2974</td></tr>\n",
       "\t<tr><td>his </td><td> 2529</td></tr>\n",
       "\t<tr><td>⋮</td><td>⋮</td></tr>\n",
       "\t<tr><td>zephyr   </td><td>1</td></tr>\n",
       "\t<tr><td>zeuglodon</td><td>1</td></tr>\n",
       "\t<tr><td>zig      </td><td>1</td></tr>\n",
       "\t<tr><td>zogranda </td><td>1</td></tr>\n",
       "\t<tr><td>zoroaster</td><td>1</td></tr>\n",
       "\t<tr><td>ϰητος    </td><td>1</td></tr>\n",
       "\t<tr><td>חו       </td><td>1</td></tr>\n",
       "</tbody>\n",
       "</table>\n"
      ],
      "text/latex": [
       "A tibble: 17848 × 2\n",
       "\\begin{tabular}{ll}\n",
       " word & n\\\\\n",
       " <chr> & <int>\\\\\n",
       "\\hline\n",
       "\t the  & 14521\\\\\n",
       "\t of   &  6611\\\\\n",
       "\t and  &  6445\\\\\n",
       "\t a    &  4717\\\\\n",
       "\t to   &  4628\\\\\n",
       "\t in   &  4175\\\\\n",
       "\t that &  2974\\\\\n",
       "\t his  &  2529\\\\\n",
       "\t ⋮ & ⋮\\\\\n",
       "\t zephyr    & 1\\\\\n",
       "\t zeuglodon & 1\\\\\n",
       "\t zig       & 1\\\\\n",
       "\t zogranda  & 1\\\\\n",
       "\t zoroaster & 1\\\\\n",
       "\t ϰητος     & 1\\\\\n",
       "\t חו        & 1\\\\\n",
       "\\end{tabular}\n"
      ],
      "text/markdown": [
       "\n",
       "A tibble: 17848 × 2\n",
       "\n",
       "| word &lt;chr&gt; | n &lt;int&gt; |\n",
       "|---|---|\n",
       "| the  | 14521 |\n",
       "| of   |  6611 |\n",
       "| and  |  6445 |\n",
       "| a    |  4717 |\n",
       "| to   |  4628 |\n",
       "| in   |  4175 |\n",
       "| that |  2974 |\n",
       "| his  |  2529 |\n",
       "| ⋮ | ⋮ |\n",
       "| zephyr    | 1 |\n",
       "| zeuglodon | 1 |\n",
       "| zig       | 1 |\n",
       "| zogranda  | 1 |\n",
       "| zoroaster | 1 |\n",
       "| ϰητος     | 1 |\n",
       "| חו        | 1 |\n",
       "\n"
      ],
      "text/plain": [
       "      word      n    \n",
       "1     the       14521\n",
       "2     of         6611\n",
       "3     and        6445\n",
       "4     a          4717\n",
       "5     to         4628\n",
       "6     in         4175\n",
       "7     that       2974\n",
       "8     his        2529\n",
       "⋮     ⋮         ⋮    \n",
       "17842 zephyr    1    \n",
       "17843 zeuglodon 1    \n",
       "17844 zig       1    \n",
       "17845 zogranda  1    \n",
       "17846 zoroaster 1    \n",
       "17847 ϰητος     1    \n",
       "17848 חו        1    "
      ]
     },
     "metadata": {},
     "output_type": "display_data"
    }
   ],
   "source": [
    "tidy_moby_dick %>%\n",
    "  count(word, sort = TRUE)"
   ]
  },
  {
   "cell_type": "markdown",
   "metadata": {},
   "source": [
    "The result is quite disappointing! Top-ranking words that appear are so obvious and do not clue us as to the characteristics of the language used in *Moby Dick*. It obstructs from any kind of analysis being made.\n",
    "\n",
    "These common words (e.g., \"this\", \"his\", \"that\", \"in\") that appear in almost every written English sentence are known as stopwords. It is a typical tidying step in text analysis studies to remove said stopwords before marching forward with the analysis.\n",
    "\n",
    "The tibble `stop_words` is a tibble provided by `tidytext` that contains a list of English stopwords.\n"
   ]
  },
  {
   "cell_type": "code",
   "execution_count": 12,
   "metadata": {},
   "outputs": [
    {
     "data": {
      "text/html": [
       "<table class=\"dataframe\">\n",
       "<caption>A tibble: 1149 × 2</caption>\n",
       "<thead>\n",
       "\t<tr><th scope=col>word</th><th scope=col>lexicon</th></tr>\n",
       "\t<tr><th scope=col>&lt;chr&gt;</th><th scope=col>&lt;chr&gt;</th></tr>\n",
       "</thead>\n",
       "<tbody>\n",
       "\t<tr><td>a          </td><td>SMART</td></tr>\n",
       "\t<tr><td>a's        </td><td>SMART</td></tr>\n",
       "\t<tr><td>able       </td><td>SMART</td></tr>\n",
       "\t<tr><td>about      </td><td>SMART</td></tr>\n",
       "\t<tr><td>above      </td><td>SMART</td></tr>\n",
       "\t<tr><td>according  </td><td>SMART</td></tr>\n",
       "\t<tr><td>accordingly</td><td>SMART</td></tr>\n",
       "\t<tr><td>across     </td><td>SMART</td></tr>\n",
       "\t<tr><td>⋮</td><td>⋮</td></tr>\n",
       "\t<tr><td>yet     </td><td>onix</td></tr>\n",
       "\t<tr><td>you     </td><td>onix</td></tr>\n",
       "\t<tr><td>young   </td><td>onix</td></tr>\n",
       "\t<tr><td>younger </td><td>onix</td></tr>\n",
       "\t<tr><td>youngest</td><td>onix</td></tr>\n",
       "\t<tr><td>your    </td><td>onix</td></tr>\n",
       "\t<tr><td>yours   </td><td>onix</td></tr>\n",
       "</tbody>\n",
       "</table>\n"
      ],
      "text/latex": [
       "A tibble: 1149 × 2\n",
       "\\begin{tabular}{ll}\n",
       " word & lexicon\\\\\n",
       " <chr> & <chr>\\\\\n",
       "\\hline\n",
       "\t a           & SMART\\\\\n",
       "\t a's         & SMART\\\\\n",
       "\t able        & SMART\\\\\n",
       "\t about       & SMART\\\\\n",
       "\t above       & SMART\\\\\n",
       "\t according   & SMART\\\\\n",
       "\t accordingly & SMART\\\\\n",
       "\t across      & SMART\\\\\n",
       "\t ⋮ & ⋮\\\\\n",
       "\t yet      & onix\\\\\n",
       "\t you      & onix\\\\\n",
       "\t young    & onix\\\\\n",
       "\t younger  & onix\\\\\n",
       "\t youngest & onix\\\\\n",
       "\t your     & onix\\\\\n",
       "\t yours    & onix\\\\\n",
       "\\end{tabular}\n"
      ],
      "text/markdown": [
       "\n",
       "A tibble: 1149 × 2\n",
       "\n",
       "| word &lt;chr&gt; | lexicon &lt;chr&gt; |\n",
       "|---|---|\n",
       "| a           | SMART |\n",
       "| a's         | SMART |\n",
       "| able        | SMART |\n",
       "| about       | SMART |\n",
       "| above       | SMART |\n",
       "| according   | SMART |\n",
       "| accordingly | SMART |\n",
       "| across      | SMART |\n",
       "| ⋮ | ⋮ |\n",
       "| yet      | onix |\n",
       "| you      | onix |\n",
       "| young    | onix |\n",
       "| younger  | onix |\n",
       "| youngest | onix |\n",
       "| your     | onix |\n",
       "| yours    | onix |\n",
       "\n"
      ],
      "text/plain": [
       "     word        lexicon\n",
       "1    a           SMART  \n",
       "2    a's         SMART  \n",
       "3    able        SMART  \n",
       "4    about       SMART  \n",
       "5    above       SMART  \n",
       "6    according   SMART  \n",
       "7    accordingly SMART  \n",
       "8    across      SMART  \n",
       "⋮    ⋮           ⋮      \n",
       "1143 yet         onix   \n",
       "1144 you         onix   \n",
       "1145 young       onix   \n",
       "1146 younger     onix   \n",
       "1147 youngest    onix   \n",
       "1148 your        onix   \n",
       "1149 yours       onix   "
      ]
     },
     "metadata": {},
     "output_type": "display_data"
    }
   ],
   "source": [
    "stop_words"
   ]
  },
  {
   "cell_type": "markdown",
   "metadata": {},
   "source": [
    "Using the function `anti_join()`, we can filter out any rows from `tidy_moby_dick` that match with a stopword in the tibble `stop_words`."
   ]
  },
  {
   "cell_type": "code",
   "execution_count": 13,
   "metadata": {},
   "outputs": [
    {
     "name": "stderr",
     "output_type": "stream",
     "text": [
      "Joining, by = \"word\"\n",
      "\n"
     ]
    },
    {
     "data": {
      "text/html": [
       "<table class=\"dataframe\">\n",
       "<caption>A tibble: 86233 × 3</caption>\n",
       "<thead>\n",
       "\t<tr><th scope=col>gutenberg_id</th><th scope=col>title</th><th scope=col>word</th></tr>\n",
       "\t<tr><th scope=col>&lt;int&gt;</th><th scope=col>&lt;chr&gt;</th><th scope=col>&lt;chr&gt;</th></tr>\n",
       "</thead>\n",
       "<tbody>\n",
       "\t<tr><td>15</td><td>Moby Dick</td><td>moby     </td></tr>\n",
       "\t<tr><td>15</td><td>Moby Dick</td><td>dick     </td></tr>\n",
       "\t<tr><td>15</td><td>Moby Dick</td><td>whale    </td></tr>\n",
       "\t<tr><td>15</td><td>Moby Dick</td><td>herman   </td></tr>\n",
       "\t<tr><td>15</td><td>Moby Dick</td><td>melville </td></tr>\n",
       "\t<tr><td>15</td><td>Moby Dick</td><td>contents </td></tr>\n",
       "\t<tr><td>15</td><td>Moby Dick</td><td>etymology</td></tr>\n",
       "\t<tr><td>15</td><td>Moby Dick</td><td>extracts </td></tr>\n",
       "\t<tr><td>⋮</td><td>⋮</td><td>⋮</td></tr>\n",
       "\t<tr><td>15</td><td>Moby Dick</td><td>rachel   </td></tr>\n",
       "\t<tr><td>15</td><td>Moby Dick</td><td>retracing</td></tr>\n",
       "\t<tr><td>15</td><td>Moby Dick</td><td>search   </td></tr>\n",
       "\t<tr><td>15</td><td>Moby Dick</td><td>missing  </td></tr>\n",
       "\t<tr><td>15</td><td>Moby Dick</td><td>children </td></tr>\n",
       "\t<tr><td>15</td><td>Moby Dick</td><td>found    </td></tr>\n",
       "\t<tr><td>15</td><td>Moby Dick</td><td>orphan   </td></tr>\n",
       "</tbody>\n",
       "</table>\n"
      ],
      "text/latex": [
       "A tibble: 86233 × 3\n",
       "\\begin{tabular}{lll}\n",
       " gutenberg\\_id & title & word\\\\\n",
       " <int> & <chr> & <chr>\\\\\n",
       "\\hline\n",
       "\t 15 & Moby Dick & moby     \\\\\n",
       "\t 15 & Moby Dick & dick     \\\\\n",
       "\t 15 & Moby Dick & whale    \\\\\n",
       "\t 15 & Moby Dick & herman   \\\\\n",
       "\t 15 & Moby Dick & melville \\\\\n",
       "\t 15 & Moby Dick & contents \\\\\n",
       "\t 15 & Moby Dick & etymology\\\\\n",
       "\t 15 & Moby Dick & extracts \\\\\n",
       "\t ⋮ & ⋮ & ⋮\\\\\n",
       "\t 15 & Moby Dick & rachel   \\\\\n",
       "\t 15 & Moby Dick & retracing\\\\\n",
       "\t 15 & Moby Dick & search   \\\\\n",
       "\t 15 & Moby Dick & missing  \\\\\n",
       "\t 15 & Moby Dick & children \\\\\n",
       "\t 15 & Moby Dick & found    \\\\\n",
       "\t 15 & Moby Dick & orphan   \\\\\n",
       "\\end{tabular}\n"
      ],
      "text/markdown": [
       "\n",
       "A tibble: 86233 × 3\n",
       "\n",
       "| gutenberg_id &lt;int&gt; | title &lt;chr&gt; | word &lt;chr&gt; |\n",
       "|---|---|---|\n",
       "| 15 | Moby Dick | moby      |\n",
       "| 15 | Moby Dick | dick      |\n",
       "| 15 | Moby Dick | whale     |\n",
       "| 15 | Moby Dick | herman    |\n",
       "| 15 | Moby Dick | melville  |\n",
       "| 15 | Moby Dick | contents  |\n",
       "| 15 | Moby Dick | etymology |\n",
       "| 15 | Moby Dick | extracts  |\n",
       "| ⋮ | ⋮ | ⋮ |\n",
       "| 15 | Moby Dick | rachel    |\n",
       "| 15 | Moby Dick | retracing |\n",
       "| 15 | Moby Dick | search    |\n",
       "| 15 | Moby Dick | missing   |\n",
       "| 15 | Moby Dick | children  |\n",
       "| 15 | Moby Dick | found     |\n",
       "| 15 | Moby Dick | orphan    |\n",
       "\n"
      ],
      "text/plain": [
       "      gutenberg_id title     word     \n",
       "1     15           Moby Dick moby     \n",
       "2     15           Moby Dick dick     \n",
       "3     15           Moby Dick whale    \n",
       "4     15           Moby Dick herman   \n",
       "5     15           Moby Dick melville \n",
       "6     15           Moby Dick contents \n",
       "7     15           Moby Dick etymology\n",
       "8     15           Moby Dick extracts \n",
       "⋮     ⋮            ⋮         ⋮        \n",
       "86227 15           Moby Dick rachel   \n",
       "86228 15           Moby Dick retracing\n",
       "86229 15           Moby Dick search   \n",
       "86230 15           Moby Dick missing  \n",
       "86231 15           Moby Dick children \n",
       "86232 15           Moby Dick found    \n",
       "86233 15           Moby Dick orphan   "
      ]
     },
     "metadata": {},
     "output_type": "display_data"
    }
   ],
   "source": [
    "tidy_moby_dick_stopworded <- tidy_moby_dick %>%\n",
    "  anti_join(stop_words)\n",
    "tidy_moby_dick_stopworded"
   ]
  },
  {
   "cell_type": "markdown",
   "metadata": {},
   "source": [
    "Observe how the total number of rows in this tibble has decreased dramatically when compared with `tidy_moby_dick`. Let us redo the most popular word list again."
   ]
  },
  {
   "cell_type": "code",
   "execution_count": 14,
   "metadata": {},
   "outputs": [
    {
     "data": {
      "text/html": [
       "<table class=\"dataframe\">\n",
       "<caption>A tibble: 17260 × 2</caption>\n",
       "<thead>\n",
       "\t<tr><th scope=col>word</th><th scope=col>n</th></tr>\n",
       "\t<tr><th scope=col>&lt;chr&gt;</th><th scope=col>&lt;int&gt;</th></tr>\n",
       "</thead>\n",
       "<tbody>\n",
       "\t<tr><td>whale  </td><td>1105</td></tr>\n",
       "\t<tr><td>sea    </td><td> 453</td></tr>\n",
       "\t<tr><td>ship   </td><td> 440</td></tr>\n",
       "\t<tr><td>ahab   </td><td> 438</td></tr>\n",
       "\t<tr><td>ye     </td><td> 429</td></tr>\n",
       "\t<tr><td>head   </td><td> 347</td></tr>\n",
       "\t<tr><td>time   </td><td> 334</td></tr>\n",
       "\t<tr><td>chapter</td><td> 308</td></tr>\n",
       "\t<tr><td>⋮</td><td>⋮</td></tr>\n",
       "\t<tr><td>zephyr   </td><td>1</td></tr>\n",
       "\t<tr><td>zeuglodon</td><td>1</td></tr>\n",
       "\t<tr><td>zig      </td><td>1</td></tr>\n",
       "\t<tr><td>zogranda </td><td>1</td></tr>\n",
       "\t<tr><td>zoroaster</td><td>1</td></tr>\n",
       "\t<tr><td>ϰητος    </td><td>1</td></tr>\n",
       "\t<tr><td>חו       </td><td>1</td></tr>\n",
       "</tbody>\n",
       "</table>\n"
      ],
      "text/latex": [
       "A tibble: 17260 × 2\n",
       "\\begin{tabular}{ll}\n",
       " word & n\\\\\n",
       " <chr> & <int>\\\\\n",
       "\\hline\n",
       "\t whale   & 1105\\\\\n",
       "\t sea     &  453\\\\\n",
       "\t ship    &  440\\\\\n",
       "\t ahab    &  438\\\\\n",
       "\t ye      &  429\\\\\n",
       "\t head    &  347\\\\\n",
       "\t time    &  334\\\\\n",
       "\t chapter &  308\\\\\n",
       "\t ⋮ & ⋮\\\\\n",
       "\t zephyr    & 1\\\\\n",
       "\t zeuglodon & 1\\\\\n",
       "\t zig       & 1\\\\\n",
       "\t zogranda  & 1\\\\\n",
       "\t zoroaster & 1\\\\\n",
       "\t ϰητος     & 1\\\\\n",
       "\t חו        & 1\\\\\n",
       "\\end{tabular}\n"
      ],
      "text/markdown": [
       "\n",
       "A tibble: 17260 × 2\n",
       "\n",
       "| word &lt;chr&gt; | n &lt;int&gt; |\n",
       "|---|---|\n",
       "| whale   | 1105 |\n",
       "| sea     |  453 |\n",
       "| ship    |  440 |\n",
       "| ahab    |  438 |\n",
       "| ye      |  429 |\n",
       "| head    |  347 |\n",
       "| time    |  334 |\n",
       "| chapter |  308 |\n",
       "| ⋮ | ⋮ |\n",
       "| zephyr    | 1 |\n",
       "| zeuglodon | 1 |\n",
       "| zig       | 1 |\n",
       "| zogranda  | 1 |\n",
       "| zoroaster | 1 |\n",
       "| ϰητος     | 1 |\n",
       "| חו        | 1 |\n",
       "\n"
      ],
      "text/plain": [
       "      word      n   \n",
       "1     whale     1105\n",
       "2     sea        453\n",
       "3     ship       440\n",
       "4     ahab       438\n",
       "5     ye         429\n",
       "6     head       347\n",
       "7     time       334\n",
       "8     chapter    308\n",
       "⋮     ⋮         ⋮   \n",
       "17254 zephyr    1   \n",
       "17255 zeuglodon 1   \n",
       "17256 zig       1   \n",
       "17257 zogranda  1   \n",
       "17258 zoroaster 1   \n",
       "17259 ϰητος     1   \n",
       "17260 חו        1   "
      ]
     },
     "metadata": {},
     "output_type": "display_data"
    }
   ],
   "source": [
    "tidy_moby_dick_stopworded %>%\n",
    "  count(word, sort = TRUE)"
   ]
  },
  {
   "cell_type": "markdown",
   "metadata": {},
   "source": [
    "Much better! We can visualize the list using a bar plot in `ggplot2`."
   ]
  },
  {
   "cell_type": "code",
   "execution_count": 15,
   "metadata": {},
   "outputs": [
    {
     "data": {
      "image/png": "[encoded data removed]",
      "text/plain": [
       "plot without title"
      ]
     },
     "metadata": {
      "image/png": {
       "height": 480,
       "width": 800
      }
     },
     "output_type": "display_data"
    }
   ],
   "source": [
    "tidy_moby_dick_stopworded %>%\n",
    "  count(word, sort = TRUE) %>%\n",
    "  filter(n > 200) %>%\n",
    "  mutate(word = reorder(word, n)) %>%\n",
    "  ggplot() +\n",
    "  geom_bar(aes(x=n, y=word), stat=\"identity\")"
   ]
  },
  {
   "cell_type": "markdown",
   "metadata": {},
   "source": [
    "From this visualization, we can clearly see that the story talks a lot about whales, the sea, ships, \n",
    "and a character named \"Ahab\". Some participants may point out that \"ye\" should also be considered a stopword, which raises an important point about standard stopword lists: they do not do well with lexical variants. For this, a custom list should be specified or appended to the standard list.\n",
    "\n",
    "Our visualization is also a first course in how tidy text plays nicely with members of the `tidyverse` like `ggplot2`. "
   ]
  },
  {
   "cell_type": "markdown",
   "metadata": {},
   "source": [
    "### 2.5 Transformation to and from non-tidy forms \n",
    "\n",
    "Before we turn to our first full-fledged text mining application, let us touch briefly on one more practical note about organizing your corpus as tidy text. \n",
    "\n",
    "Tidy text is useful in that it plays well with core tidyverse members like `ggplot2`, as we just saw earlier. However, the principles of tidy text should not be taken as license for labeling non-tidy text forms as without purpose. In fact, important text analysis modeling techniques like *topic modeling* will only accept text that is in a non-tidy form. The real magic of tidy text, then, lies not in its elegance and easy-to-digest format, but in its ability to move fluidly between tidy and non-tidy forms. \n",
    "\n",
    "\n",
    "As an example, here is how we can convert tidy text to a format known as a *document term matrix* which is how topic modeling likes its input. Don’t worry if all that seems like nonsense jargon – the part you should care about is that we can convert tidy text to a document term matrix with __just one line of code__!"
   ]
  },
  {
   "cell_type": "code",
   "execution_count": 16,
   "metadata": {},
   "outputs": [
    {
     "data": {
      "text/plain": [
       "<<DocumentTermMatrix (documents: 1, terms: 17260)>>\n",
       "Non-/sparse entries: 17260/0\n",
       "Sparsity           : 0%\n",
       "Maximal term length: 20\n",
       "Weighting          : term frequency (tf)"
      ]
     },
     "metadata": {},
     "output_type": "display_data"
    }
   ],
   "source": [
    "tidy_moby_dick_stopworded %>%\n",
    "  count(gutenberg_id, word) %>%\n",
    "  cast_dtm(gutenberg_id, word, n)"
   ]
  },
  {
   "cell_type": "markdown",
   "metadata": {},
   "source": [
    "__Exercise:__ Another useful non-tidy text format is a *document-feature matrix*. In this form, the table is structured as one token per column, where the value given in the column is the frequency of the token. We can convert tidy text to a document-feature matrix using the function `cast_dfm()`. Can you complete the following code to convert the tidy tibble `moby_dick_words_with_counts` to a document-feature matrix? \n",
    "\n",
    "Try using the `%>%` operator!"
   ]
  },
  {
   "cell_type": "code",
   "execution_count": 31,
   "metadata": {},
   "outputs": [],
   "source": [
    "# Your code here!"
   ]
  },
  {
   "cell_type": "markdown",
   "metadata": {},
   "source": [
    "## 3. Frequency analysis"
   ]
  },
  {
   "cell_type": "markdown",
   "metadata": {},
   "source": [
    "We are now ready to apply the tidy text principles we have learned to carry out a simple first study \n",
    "in text mining: *frequency analysis* (or, *word count analysis*). While looking at word counts is a simple idea, it is a helpful first step in exploring text data and can inform next steps in research.\n",
    "\n",
    "We are also ready to return to our corpus of Melville prose we put together earlier in the workshop,\n",
    "available in the name `melville`. "
   ]
  },
  {
   "cell_type": "markdown",
   "metadata": {},
   "source": [
    "### 3.1 Tidying `melville`\n",
    "\n",
    "As we just saw, before any textual analysis can be had, the corpus must be brought into tidy text. \n",
    "We can chain together the steps before by connecting them using the `%>%` operator. That is, we will:\n",
    "\n",
    "* Convert the text to a *one-token-per-row* structure, \n",
    "* Filter stopwords from the text using the standard `stop_words` list. \n",
    "* __Also,__ enforce that all tokens that appear are strictly alphabetical. \n",
    "\n",
    "The last step may or may not be helpful to include depending on the study. Because we are approaching these texts exclusively from the stance of distant reading, numerical tokens carry little inherent meaning. Technically, we would call said tokens *noisy* because they distort the possibility for analysis.\n",
    "\n",
    "Now, the code: \n"
   ]
  },
  {
   "cell_type": "code",
   "execution_count": 17,
   "metadata": {},
   "outputs": [
    {
     "name": "stderr",
     "output_type": "stream",
     "text": [
      "Joining, by = \"word\"\n",
      "\n"
     ]
    },
    {
     "data": {
      "text/html": [
       "<table class=\"dataframe\">\n",
       "<caption>A tibble: 190707 × 3</caption>\n",
       "<thead>\n",
       "\t<tr><th scope=col>gutenberg_id</th><th scope=col>title</th><th scope=col>word</th></tr>\n",
       "\t<tr><th scope=col>&lt;int&gt;</th><th scope=col>&lt;chr&gt;</th><th scope=col>&lt;chr&gt;</th></tr>\n",
       "</thead>\n",
       "<tbody>\n",
       "\t<tr><td>15</td><td>Moby Dick</td><td>moby     </td></tr>\n",
       "\t<tr><td>15</td><td>Moby Dick</td><td>dick     </td></tr>\n",
       "\t<tr><td>15</td><td>Moby Dick</td><td>whale    </td></tr>\n",
       "\t<tr><td>15</td><td>Moby Dick</td><td>herman   </td></tr>\n",
       "\t<tr><td>15</td><td>Moby Dick</td><td>melville </td></tr>\n",
       "\t<tr><td>15</td><td>Moby Dick</td><td>contents </td></tr>\n",
       "\t<tr><td>15</td><td>Moby Dick</td><td>etymology</td></tr>\n",
       "\t<tr><td>15</td><td>Moby Dick</td><td>extracts </td></tr>\n",
       "\t<tr><td>⋮</td><td>⋮</td><td>⋮</td></tr>\n",
       "\t<tr><td>11231</td><td>Bartleby, the Scrivener</td><td>letters </td></tr>\n",
       "\t<tr><td>11231</td><td>Bartleby, the Scrivener</td><td>speed   </td></tr>\n",
       "\t<tr><td>11231</td><td>Bartleby, the Scrivener</td><td>death   </td></tr>\n",
       "\t<tr><td>11231</td><td>Bartleby, the Scrivener</td><td>ah      </td></tr>\n",
       "\t<tr><td>11231</td><td>Bartleby, the Scrivener</td><td>bartleby</td></tr>\n",
       "\t<tr><td>11231</td><td>Bartleby, the Scrivener</td><td>ah      </td></tr>\n",
       "\t<tr><td>11231</td><td>Bartleby, the Scrivener</td><td>humanity</td></tr>\n",
       "</tbody>\n",
       "</table>\n"
      ],
      "text/latex": [
       "A tibble: 190707 × 3\n",
       "\\begin{tabular}{lll}\n",
       " gutenberg\\_id & title & word\\\\\n",
       " <int> & <chr> & <chr>\\\\\n",
       "\\hline\n",
       "\t 15 & Moby Dick & moby     \\\\\n",
       "\t 15 & Moby Dick & dick     \\\\\n",
       "\t 15 & Moby Dick & whale    \\\\\n",
       "\t 15 & Moby Dick & herman   \\\\\n",
       "\t 15 & Moby Dick & melville \\\\\n",
       "\t 15 & Moby Dick & contents \\\\\n",
       "\t 15 & Moby Dick & etymology\\\\\n",
       "\t 15 & Moby Dick & extracts \\\\\n",
       "\t ⋮ & ⋮ & ⋮\\\\\n",
       "\t 11231 & Bartleby, the Scrivener & letters \\\\\n",
       "\t 11231 & Bartleby, the Scrivener & speed   \\\\\n",
       "\t 11231 & Bartleby, the Scrivener & death   \\\\\n",
       "\t 11231 & Bartleby, the Scrivener & ah      \\\\\n",
       "\t 11231 & Bartleby, the Scrivener & bartleby\\\\\n",
       "\t 11231 & Bartleby, the Scrivener & ah      \\\\\n",
       "\t 11231 & Bartleby, the Scrivener & humanity\\\\\n",
       "\\end{tabular}\n"
      ],
      "text/markdown": [
       "\n",
       "A tibble: 190707 × 3\n",
       "\n",
       "| gutenberg_id &lt;int&gt; | title &lt;chr&gt; | word &lt;chr&gt; |\n",
       "|---|---|---|\n",
       "| 15 | Moby Dick | moby      |\n",
       "| 15 | Moby Dick | dick      |\n",
       "| 15 | Moby Dick | whale     |\n",
       "| 15 | Moby Dick | herman    |\n",
       "| 15 | Moby Dick | melville  |\n",
       "| 15 | Moby Dick | contents  |\n",
       "| 15 | Moby Dick | etymology |\n",
       "| 15 | Moby Dick | extracts  |\n",
       "| ⋮ | ⋮ | ⋮ |\n",
       "| 11231 | Bartleby, the Scrivener | letters  |\n",
       "| 11231 | Bartleby, the Scrivener | speed    |\n",
       "| 11231 | Bartleby, the Scrivener | death    |\n",
       "| 11231 | Bartleby, the Scrivener | ah       |\n",
       "| 11231 | Bartleby, the Scrivener | bartleby |\n",
       "| 11231 | Bartleby, the Scrivener | ah       |\n",
       "| 11231 | Bartleby, the Scrivener | humanity |\n",
       "\n"
      ],
      "text/plain": [
       "       gutenberg_id title                   word     \n",
       "1      15           Moby Dick               moby     \n",
       "2      15           Moby Dick               dick     \n",
       "3      15           Moby Dick               whale    \n",
       "4      15           Moby Dick               herman   \n",
       "5      15           Moby Dick               melville \n",
       "6      15           Moby Dick               contents \n",
       "7      15           Moby Dick               etymology\n",
       "8      15           Moby Dick               extracts \n",
       "⋮      ⋮            ⋮                       ⋮        \n",
       "190701 11231        Bartleby, the Scrivener letters  \n",
       "190702 11231        Bartleby, the Scrivener speed    \n",
       "190703 11231        Bartleby, the Scrivener death    \n",
       "190704 11231        Bartleby, the Scrivener ah       \n",
       "190705 11231        Bartleby, the Scrivener bartleby \n",
       "190706 11231        Bartleby, the Scrivener ah       \n",
       "190707 11231        Bartleby, the Scrivener humanity "
      ]
     },
     "metadata": {},
     "output_type": "display_data"
    }
   ],
   "source": [
    "tidy_melville <- melville %>%\n",
    "  unnest_tokens(word, text) %>%\n",
    "  anti_join(stop_words) %>%\n",
    "  mutate(word = str_extract(word, \"[a-z]+\"))\n",
    "tidy_melville"
   ]
  },
  {
   "cell_type": "markdown",
   "metadata": {},
   "source": [
    "As a quick check, let us perform a \"word count\" for each of the texts. \n"
   ]
  },
  {
   "cell_type": "code",
   "execution_count": 18,
   "metadata": {},
   "outputs": [
    {
     "data": {
      "text/html": [
       "<table class=\"dataframe\">\n",
       "<caption>A tibble: 4 × 2</caption>\n",
       "<thead>\n",
       "\t<tr><th scope=col>title</th><th scope=col>num_words</th></tr>\n",
       "\t<tr><th scope=col>&lt;chr&gt;</th><th scope=col>&lt;int&gt;</th></tr>\n",
       "</thead>\n",
       "<tbody>\n",
       "\t<tr><td>Moby Dick                         </td><td>86233</td></tr>\n",
       "\t<tr><td>White Jacket                      </td><td>56449</td></tr>\n",
       "\t<tr><td>Typee: A Romance of the South Seas</td><td>43026</td></tr>\n",
       "\t<tr><td>Bartleby, the Scrivener           </td><td> 4999</td></tr>\n",
       "</tbody>\n",
       "</table>\n"
      ],
      "text/latex": [
       "A tibble: 4 × 2\n",
       "\\begin{tabular}{ll}\n",
       " title & num\\_words\\\\\n",
       " <chr> & <int>\\\\\n",
       "\\hline\n",
       "\t Moby Dick                          & 86233\\\\\n",
       "\t White Jacket                       & 56449\\\\\n",
       "\t Typee: A Romance of the South Seas & 43026\\\\\n",
       "\t Bartleby, the Scrivener            &  4999\\\\\n",
       "\\end{tabular}\n"
      ],
      "text/markdown": [
       "\n",
       "A tibble: 4 × 2\n",
       "\n",
       "| title &lt;chr&gt; | num_words &lt;int&gt; |\n",
       "|---|---|\n",
       "| Moby Dick                          | 86233 |\n",
       "| White Jacket                       | 56449 |\n",
       "| Typee: A Romance of the South Seas | 43026 |\n",
       "| Bartleby, the Scrivener            |  4999 |\n",
       "\n"
      ],
      "text/plain": [
       "  title                              num_words\n",
       "1 Moby Dick                          86233    \n",
       "2 White Jacket                       56449    \n",
       "3 Typee: A Romance of the South Seas 43026    \n",
       "4 Bartleby, the Scrivener             4999    "
      ]
     },
     "metadata": {},
     "output_type": "display_data"
    }
   ],
   "source": [
    "tidy_melville %>%\n",
    "  group_by(title) %>%\n",
    "  count(word, sort = TRUE) %>%\n",
    "  summarize(num_words = sum(n)) %>%\n",
    "  arrange(desc(num_words))"
   ]
  },
  {
   "cell_type": "markdown",
   "metadata": {},
   "source": [
    "*Moby Dick* is a mammoth of a book (178 pages!) so it makes sense that it would rank highest in the \n",
    "list in terms of word count."
   ]
  },
  {
   "cell_type": "markdown",
   "metadata": {},
   "source": [
    "### 3.2 Visualizing popular words\n",
    "\n",
    "Let us find the most popular words in each of the titles."
   ]
  },
  {
   "cell_type": "code",
   "execution_count": 19,
   "metadata": {},
   "outputs": [
    {
     "data": {
      "text/html": [
       "<table class=\"dataframe\">\n",
       "<caption>A tibble: 42146 × 3</caption>\n",
       "<thead>\n",
       "\t<tr><th scope=col>title</th><th scope=col>word</th><th scope=col>n</th></tr>\n",
       "\t<tr><th scope=col>&lt;chr&gt;</th><th scope=col>&lt;chr&gt;</th><th scope=col>&lt;int&gt;</th></tr>\n",
       "</thead>\n",
       "<tbody>\n",
       "\t<tr><td>Moby Dick   </td><td>whale  </td><td>1243</td></tr>\n",
       "\t<tr><td>Moby Dick   </td><td>ahab   </td><td> 520</td></tr>\n",
       "\t<tr><td>Moby Dick   </td><td>ship   </td><td> 520</td></tr>\n",
       "\t<tr><td>White Jacket</td><td>war    </td><td> 481</td></tr>\n",
       "\t<tr><td>Moby Dick   </td><td>sea    </td><td> 454</td></tr>\n",
       "\t<tr><td>Moby Dick   </td><td>ye     </td><td> 439</td></tr>\n",
       "\t<tr><td>White Jacket</td><td>captain</td><td> 413</td></tr>\n",
       "\t<tr><td>Moby Dick   </td><td>head   </td><td> 348</td></tr>\n",
       "\t<tr><td>⋮</td><td>⋮</td><td>⋮</td></tr>\n",
       "\t<tr><td>White Jacket</td><td>yolk     </td><td>1</td></tr>\n",
       "\t<tr><td>White Jacket</td><td>zealand  </td><td>1</td></tr>\n",
       "\t<tr><td>White Jacket</td><td>zealously</td><td>1</td></tr>\n",
       "\t<tr><td>White Jacket</td><td>zembla   </td><td>1</td></tr>\n",
       "\t<tr><td>White Jacket</td><td>zenith   </td><td>1</td></tr>\n",
       "\t<tr><td>White Jacket</td><td>zest     </td><td>1</td></tr>\n",
       "\t<tr><td>White Jacket</td><td>zone     </td><td>1</td></tr>\n",
       "</tbody>\n",
       "</table>\n"
      ],
      "text/latex": [
       "A tibble: 42146 × 3\n",
       "\\begin{tabular}{lll}\n",
       " title & word & n\\\\\n",
       " <chr> & <chr> & <int>\\\\\n",
       "\\hline\n",
       "\t Moby Dick    & whale   & 1243\\\\\n",
       "\t Moby Dick    & ahab    &  520\\\\\n",
       "\t Moby Dick    & ship    &  520\\\\\n",
       "\t White Jacket & war     &  481\\\\\n",
       "\t Moby Dick    & sea     &  454\\\\\n",
       "\t Moby Dick    & ye      &  439\\\\\n",
       "\t White Jacket & captain &  413\\\\\n",
       "\t Moby Dick    & head    &  348\\\\\n",
       "\t ⋮ & ⋮ & ⋮\\\\\n",
       "\t White Jacket & yolk      & 1\\\\\n",
       "\t White Jacket & zealand   & 1\\\\\n",
       "\t White Jacket & zealously & 1\\\\\n",
       "\t White Jacket & zembla    & 1\\\\\n",
       "\t White Jacket & zenith    & 1\\\\\n",
       "\t White Jacket & zest      & 1\\\\\n",
       "\t White Jacket & zone      & 1\\\\\n",
       "\\end{tabular}\n"
      ],
      "text/markdown": [
       "\n",
       "A tibble: 42146 × 3\n",
       "\n",
       "| title &lt;chr&gt; | word &lt;chr&gt; | n &lt;int&gt; |\n",
       "|---|---|---|\n",
       "| Moby Dick    | whale   | 1243 |\n",
       "| Moby Dick    | ahab    |  520 |\n",
       "| Moby Dick    | ship    |  520 |\n",
       "| White Jacket | war     |  481 |\n",
       "| Moby Dick    | sea     |  454 |\n",
       "| Moby Dick    | ye      |  439 |\n",
       "| White Jacket | captain |  413 |\n",
       "| Moby Dick    | head    |  348 |\n",
       "| ⋮ | ⋮ | ⋮ |\n",
       "| White Jacket | yolk      | 1 |\n",
       "| White Jacket | zealand   | 1 |\n",
       "| White Jacket | zealously | 1 |\n",
       "| White Jacket | zembla    | 1 |\n",
       "| White Jacket | zenith    | 1 |\n",
       "| White Jacket | zest      | 1 |\n",
       "| White Jacket | zone      | 1 |\n",
       "\n"
      ],
      "text/plain": [
       "      title        word      n   \n",
       "1     Moby Dick    whale     1243\n",
       "2     Moby Dick    ahab       520\n",
       "3     Moby Dick    ship       520\n",
       "4     White Jacket war        481\n",
       "5     Moby Dick    sea        454\n",
       "6     Moby Dick    ye         439\n",
       "7     White Jacket captain    413\n",
       "8     Moby Dick    head       348\n",
       "⋮     ⋮            ⋮         ⋮   \n",
       "42140 White Jacket yolk      1   \n",
       "42141 White Jacket zealand   1   \n",
       "42142 White Jacket zealously 1   \n",
       "42143 White Jacket zembla    1   \n",
       "42144 White Jacket zenith    1   \n",
       "42145 White Jacket zest      1   \n",
       "42146 White Jacket zone      1   "
      ]
     },
     "metadata": {},
     "output_type": "display_data"
    }
   ],
   "source": [
    "tidy_melville <- tidy_melville %>%\n",
    "  group_by(title) %>%\n",
    "  count(word, sort = TRUE) %>%\n",
    "  ungroup()\n",
    "tidy_melville"
   ]
  },
  {
   "cell_type": "markdown",
   "metadata": {},
   "source": [
    "This lends itself well to a bar geom in `ggplot`. We will select out around the 10 most popular, which correspond to words that occur over 300 times."
   ]
  },
  {
   "cell_type": "code",
   "execution_count": 20,
   "metadata": {},
   "outputs": [
    {
     "data": {
      "image/png": "[encoded data removed]",
      "text/plain": [
       "plot without title"
      ]
     },
     "metadata": {
      "image/png": {
       "height": 480,
       "width": 800
      }
     },
     "output_type": "display_data"
    }
   ],
   "source": [
    "tidy_melville %>%\n",
    "  filter(n > 250) %>%\n",
    "  mutate(word = reorder(word, n)) %>%\n",
    "  ggplot() +\n",
    "  geom_bar(aes(x=n, y=word, fill=title), stat=\"identity\")"
   ]
  },
  {
   "cell_type": "markdown",
   "metadata": {},
   "source": [
    "Something is odd about this plot. These top words are mostly coming from *Moby Dick*! As we just saw,\n",
    "*Moby Dick* is the largest title in our collection so any of its popular words would dominate the overall popular list of words in terms of word count.\n",
    "\n",
    "Instead of looking at word counts, a better approach is to look at *word proportions*. Even though the word \"whale\" may have over 1200 occurrences, the proportion in which it appears may be much less when compared to other titles.\n",
    "\n",
    "Let us add a new column containing these proportions in which a word occurs with respect to the total number of words in the corresponding text.\n"
   ]
  },
  {
   "cell_type": "code",
   "execution_count": 21,
   "metadata": {},
   "outputs": [
    {
     "data": {
      "text/html": [
       "<table class=\"dataframe\">\n",
       "<caption>A tibble: 42146 × 4</caption>\n",
       "<thead>\n",
       "\t<tr><th scope=col>title</th><th scope=col>word</th><th scope=col>n</th><th scope=col>proportion</th></tr>\n",
       "\t<tr><th scope=col>&lt;chr&gt;</th><th scope=col>&lt;chr&gt;</th><th scope=col>&lt;int&gt;</th><th scope=col>&lt;dbl&gt;</th></tr>\n",
       "</thead>\n",
       "<tbody>\n",
       "\t<tr><td>Moby Dick   </td><td>whale  </td><td>1243</td><td>0.014414435</td></tr>\n",
       "\t<tr><td>Moby Dick   </td><td>ahab   </td><td> 520</td><td>0.006030174</td></tr>\n",
       "\t<tr><td>Moby Dick   </td><td>ship   </td><td> 520</td><td>0.006030174</td></tr>\n",
       "\t<tr><td>White Jacket</td><td>war    </td><td> 481</td><td>0.008520966</td></tr>\n",
       "\t<tr><td>Moby Dick   </td><td>sea    </td><td> 454</td><td>0.005264806</td></tr>\n",
       "\t<tr><td>Moby Dick   </td><td>ye     </td><td> 439</td><td>0.005090858</td></tr>\n",
       "\t<tr><td>White Jacket</td><td>captain</td><td> 413</td><td>0.007316339</td></tr>\n",
       "\t<tr><td>Moby Dick   </td><td>head   </td><td> 348</td><td>0.004035578</td></tr>\n",
       "\t<tr><td>⋮</td><td>⋮</td><td>⋮</td><td>⋮</td></tr>\n",
       "\t<tr><td>White Jacket</td><td>yolk     </td><td>1</td><td>1.771511e-05</td></tr>\n",
       "\t<tr><td>White Jacket</td><td>zealand  </td><td>1</td><td>1.771511e-05</td></tr>\n",
       "\t<tr><td>White Jacket</td><td>zealously</td><td>1</td><td>1.771511e-05</td></tr>\n",
       "\t<tr><td>White Jacket</td><td>zembla   </td><td>1</td><td>1.771511e-05</td></tr>\n",
       "\t<tr><td>White Jacket</td><td>zenith   </td><td>1</td><td>1.771511e-05</td></tr>\n",
       "\t<tr><td>White Jacket</td><td>zest     </td><td>1</td><td>1.771511e-05</td></tr>\n",
       "\t<tr><td>White Jacket</td><td>zone     </td><td>1</td><td>1.771511e-05</td></tr>\n",
       "</tbody>\n",
       "</table>\n"
      ],
      "text/latex": [
       "A tibble: 42146 × 4\n",
       "\\begin{tabular}{llll}\n",
       " title & word & n & proportion\\\\\n",
       " <chr> & <chr> & <int> & <dbl>\\\\\n",
       "\\hline\n",
       "\t Moby Dick    & whale   & 1243 & 0.014414435\\\\\n",
       "\t Moby Dick    & ahab    &  520 & 0.006030174\\\\\n",
       "\t Moby Dick    & ship    &  520 & 0.006030174\\\\\n",
       "\t White Jacket & war     &  481 & 0.008520966\\\\\n",
       "\t Moby Dick    & sea     &  454 & 0.005264806\\\\\n",
       "\t Moby Dick    & ye      &  439 & 0.005090858\\\\\n",
       "\t White Jacket & captain &  413 & 0.007316339\\\\\n",
       "\t Moby Dick    & head    &  348 & 0.004035578\\\\\n",
       "\t ⋮ & ⋮ & ⋮ & ⋮\\\\\n",
       "\t White Jacket & yolk      & 1 & 1.771511e-05\\\\\n",
       "\t White Jacket & zealand   & 1 & 1.771511e-05\\\\\n",
       "\t White Jacket & zealously & 1 & 1.771511e-05\\\\\n",
       "\t White Jacket & zembla    & 1 & 1.771511e-05\\\\\n",
       "\t White Jacket & zenith    & 1 & 1.771511e-05\\\\\n",
       "\t White Jacket & zest      & 1 & 1.771511e-05\\\\\n",
       "\t White Jacket & zone      & 1 & 1.771511e-05\\\\\n",
       "\\end{tabular}\n"
      ],
      "text/markdown": [
       "\n",
       "A tibble: 42146 × 4\n",
       "\n",
       "| title &lt;chr&gt; | word &lt;chr&gt; | n &lt;int&gt; | proportion &lt;dbl&gt; |\n",
       "|---|---|---|---|\n",
       "| Moby Dick    | whale   | 1243 | 0.014414435 |\n",
       "| Moby Dick    | ahab    |  520 | 0.006030174 |\n",
       "| Moby Dick    | ship    |  520 | 0.006030174 |\n",
       "| White Jacket | war     |  481 | 0.008520966 |\n",
       "| Moby Dick    | sea     |  454 | 0.005264806 |\n",
       "| Moby Dick    | ye      |  439 | 0.005090858 |\n",
       "| White Jacket | captain |  413 | 0.007316339 |\n",
       "| Moby Dick    | head    |  348 | 0.004035578 |\n",
       "| ⋮ | ⋮ | ⋮ | ⋮ |\n",
       "| White Jacket | yolk      | 1 | 1.771511e-05 |\n",
       "| White Jacket | zealand   | 1 | 1.771511e-05 |\n",
       "| White Jacket | zealously | 1 | 1.771511e-05 |\n",
       "| White Jacket | zembla    | 1 | 1.771511e-05 |\n",
       "| White Jacket | zenith    | 1 | 1.771511e-05 |\n",
       "| White Jacket | zest      | 1 | 1.771511e-05 |\n",
       "| White Jacket | zone      | 1 | 1.771511e-05 |\n",
       "\n"
      ],
      "text/plain": [
       "      title        word      n    proportion  \n",
       "1     Moby Dick    whale     1243 0.014414435 \n",
       "2     Moby Dick    ahab       520 0.006030174 \n",
       "3     Moby Dick    ship       520 0.006030174 \n",
       "4     White Jacket war        481 0.008520966 \n",
       "5     Moby Dick    sea        454 0.005264806 \n",
       "6     Moby Dick    ye         439 0.005090858 \n",
       "7     White Jacket captain    413 0.007316339 \n",
       "8     Moby Dick    head       348 0.004035578 \n",
       "⋮     ⋮            ⋮         ⋮    ⋮           \n",
       "42140 White Jacket yolk      1    1.771511e-05\n",
       "42141 White Jacket zealand   1    1.771511e-05\n",
       "42142 White Jacket zealously 1    1.771511e-05\n",
       "42143 White Jacket zembla    1    1.771511e-05\n",
       "42144 White Jacket zenith    1    1.771511e-05\n",
       "42145 White Jacket zest      1    1.771511e-05\n",
       "42146 White Jacket zone      1    1.771511e-05"
      ]
     },
     "metadata": {},
     "output_type": "display_data"
    }
   ],
   "source": [
    "tidy_melville_with_proportion <- tidy_melville %>%\n",
    "  group_by(title) %>%\n",
    "  mutate(proportion = n / sum(n)) %>%\n",
    "  ungroup()\n",
    "tidy_melville_with_proportion"
   ]
  },
  {
   "cell_type": "markdown",
   "metadata": {},
   "source": [
    "Let us redo the plot."
   ]
  },
  {
   "cell_type": "code",
   "execution_count": 24,
   "metadata": {},
   "outputs": [
    {
     "data": {
      "image/png": "[encoded data removed]",
      "text/plain": [
       "plot without title"
      ]
     },
     "metadata": {
      "image/png": {
       "height": 480,
       "width": 800
      }
     },
     "output_type": "display_data"
    }
   ],
   "source": [
    "tidy_melville_with_proportion %>%\n",
    "  filter(proportion > 0.006) %>%\n",
    "  mutate(word = reorder(word, proportion)) %>%\n",
    "  ggplot() +\n",
    "  geom_bar(aes(x=proportion, y=word, fill=title), \n",
    "           stat=\"identity\", position = \"dodge\")"
   ]
  },
  {
   "cell_type": "markdown",
   "metadata": {},
   "source": [
    "Interesting! In terms of proportions, we see that Melville uses the word \"bartleby\" much more in *Bartleby, the Scrivener* than he does \"whale\" in *Moby Dick*. Moreover, Moby Dick no longer dominates \n",
    "the popular words list. In fact, it turns out that *Bartleby, the Scrivener* contributes the most highest-ranking words from the collection."
   ]
  },
  {
   "cell_type": "markdown",
   "metadata": {},
   "source": [
    "__Exercise:__ Can you adjust the bar plot visualization so that it displays more top words?"
   ]
  },
  {
   "cell_type": "code",
   "execution_count": 39,
   "metadata": {},
   "outputs": [],
   "source": [
    "# Your code goes here!"
   ]
  },
  {
   "cell_type": "markdown",
   "metadata": {},
   "source": [
    "### 3.3 Just how popular was *Moby Dick*’s vocabulary?"
   ]
  },
  {
   "cell_type": "markdown",
   "metadata": {},
   "source": [
    "A possible follow-up question is whether the most popular words in *Moby Dick* also saw significant usage across other texts in the collection. That is, for the most popular words that appear in *Moby Dick*, how often do they occur in the other titles in terms of word proportions? This would suggest elements in those texts that are laced with some of the major thematic components in *Moby Dick*.\n",
    "\n",
    "We first extract the top 10 word proportions from *Moby Dick* to form a \"popular words\" list."
   ]
  },
  {
   "cell_type": "code",
   "execution_count": 25,
   "metadata": {},
   "outputs": [
    {
     "data": {
      "text/html": [
       "<table class=\"dataframe\">\n",
       "<caption>A tibble: 10 × 1</caption>\n",
       "<thead>\n",
       "\t<tr><th scope=col>word</th></tr>\n",
       "\t<tr><th scope=col>&lt;chr&gt;</th></tr>\n",
       "</thead>\n",
       "<tbody>\n",
       "\t<tr><td>whale  </td></tr>\n",
       "\t<tr><td>ahab   </td></tr>\n",
       "\t<tr><td>ship   </td></tr>\n",
       "\t<tr><td>sea    </td></tr>\n",
       "\t<tr><td>ye     </td></tr>\n",
       "\t<tr><td>head   </td></tr>\n",
       "\t<tr><td>boat   </td></tr>\n",
       "\t<tr><td>time   </td></tr>\n",
       "\t<tr><td>captain</td></tr>\n",
       "\t<tr><td>chapter</td></tr>\n",
       "</tbody>\n",
       "</table>\n"
      ],
      "text/latex": [
       "A tibble: 10 × 1\n",
       "\\begin{tabular}{l}\n",
       " word\\\\\n",
       " <chr>\\\\\n",
       "\\hline\n",
       "\t whale  \\\\\n",
       "\t ahab   \\\\\n",
       "\t ship   \\\\\n",
       "\t sea    \\\\\n",
       "\t ye     \\\\\n",
       "\t head   \\\\\n",
       "\t boat   \\\\\n",
       "\t time   \\\\\n",
       "\t captain\\\\\n",
       "\t chapter\\\\\n",
       "\\end{tabular}\n"
      ],
      "text/markdown": [
       "\n",
       "A tibble: 10 × 1\n",
       "\n",
       "| word &lt;chr&gt; |\n",
       "|---|\n",
       "| whale   |\n",
       "| ahab    |\n",
       "| ship    |\n",
       "| sea     |\n",
       "| ye      |\n",
       "| head    |\n",
       "| boat    |\n",
       "| time    |\n",
       "| captain |\n",
       "| chapter |\n",
       "\n"
      ],
      "text/plain": [
       "   word   \n",
       "1  whale  \n",
       "2  ahab   \n",
       "3  ship   \n",
       "4  sea    \n",
       "5  ye     \n",
       "6  head   \n",
       "7  boat   \n",
       "8  time   \n",
       "9  captain\n",
       "10 chapter"
      ]
     },
     "metadata": {},
     "output_type": "display_data"
    }
   ],
   "source": [
    "top_moby <- tidy_melville %>%\n",
    "  filter(title == \"Moby Dick\") %>%\n",
    "  mutate(proportion = n / sum(n)) %>%\n",
    "  arrange(desc(proportion)) %>%\n",
    "  slice(1:10) %>%\n",
    "  select(word)\n",
    "top_moby"
   ]
  },
  {
   "cell_type": "markdown",
   "metadata": {},
   "source": [
    "We compute the word proportions with respect to each of the titles and then join the `top_moby` words \n",
    "list with `tidy_melville` to extract only the top Moby Dick words from the other three texts."
   ]
  },
  {
   "cell_type": "code",
   "execution_count": 26,
   "metadata": {},
   "outputs": [
    {
     "data": {
      "text/html": [
       "<table class=\"dataframe\">\n",
       "<caption>A tibble: 32 × 4</caption>\n",
       "<thead>\n",
       "\t<tr><th scope=col>title</th><th scope=col>word</th><th scope=col>n</th><th scope=col>proportion</th></tr>\n",
       "\t<tr><th scope=col>&lt;chr&gt;</th><th scope=col>&lt;chr&gt;</th><th scope=col>&lt;int&gt;</th><th scope=col>&lt;dbl&gt;</th></tr>\n",
       "</thead>\n",
       "<tbody>\n",
       "\t<tr><td>Moby Dick   </td><td>whale  </td><td>1243</td><td>0.014414435</td></tr>\n",
       "\t<tr><td>Moby Dick   </td><td>ahab   </td><td> 520</td><td>0.006030174</td></tr>\n",
       "\t<tr><td>Moby Dick   </td><td>ship   </td><td> 520</td><td>0.006030174</td></tr>\n",
       "\t<tr><td>Moby Dick   </td><td>sea    </td><td> 454</td><td>0.005264806</td></tr>\n",
       "\t<tr><td>Moby Dick   </td><td>ye     </td><td> 439</td><td>0.005090858</td></tr>\n",
       "\t<tr><td>White Jacket</td><td>captain</td><td> 413</td><td>0.007316339</td></tr>\n",
       "\t<tr><td>Moby Dick   </td><td>head   </td><td> 348</td><td>0.004035578</td></tr>\n",
       "\t<tr><td>White Jacket</td><td>ship   </td><td> 345</td><td>0.006111711</td></tr>\n",
       "\t<tr><td>⋮</td><td>⋮</td><td>⋮</td><td>⋮</td></tr>\n",
       "\t<tr><td>Bartleby, the Scrivener           </td><td>time </td><td>27</td><td>5.401080e-03</td></tr>\n",
       "\t<tr><td>Typee: A Romance of the South Seas</td><td>whale</td><td>24</td><td>5.578023e-04</td></tr>\n",
       "\t<tr><td>Bartleby, the Scrivener           </td><td>head </td><td> 6</td><td>1.200240e-03</td></tr>\n",
       "\t<tr><td>White Jacket                      </td><td>whale</td><td> 5</td><td>8.857553e-05</td></tr>\n",
       "\t<tr><td>Typee: A Romance of the South Seas</td><td>ye   </td><td> 4</td><td>9.296704e-05</td></tr>\n",
       "\t<tr><td>Bartleby, the Scrivener           </td><td>ye   </td><td> 1</td><td>2.000400e-04</td></tr>\n",
       "\t<tr><td>Typee: A Romance of the South Seas</td><td>ahab </td><td> 1</td><td>2.324176e-05</td></tr>\n",
       "</tbody>\n",
       "</table>\n"
      ],
      "text/latex": [
       "A tibble: 32 × 4\n",
       "\\begin{tabular}{llll}\n",
       " title & word & n & proportion\\\\\n",
       " <chr> & <chr> & <int> & <dbl>\\\\\n",
       "\\hline\n",
       "\t Moby Dick    & whale   & 1243 & 0.014414435\\\\\n",
       "\t Moby Dick    & ahab    &  520 & 0.006030174\\\\\n",
       "\t Moby Dick    & ship    &  520 & 0.006030174\\\\\n",
       "\t Moby Dick    & sea     &  454 & 0.005264806\\\\\n",
       "\t Moby Dick    & ye      &  439 & 0.005090858\\\\\n",
       "\t White Jacket & captain &  413 & 0.007316339\\\\\n",
       "\t Moby Dick    & head    &  348 & 0.004035578\\\\\n",
       "\t White Jacket & ship    &  345 & 0.006111711\\\\\n",
       "\t ⋮ & ⋮ & ⋮ & ⋮\\\\\n",
       "\t Bartleby, the Scrivener            & time  & 27 & 5.401080e-03\\\\\n",
       "\t Typee: A Romance of the South Seas & whale & 24 & 5.578023e-04\\\\\n",
       "\t Bartleby, the Scrivener            & head  &  6 & 1.200240e-03\\\\\n",
       "\t White Jacket                       & whale &  5 & 8.857553e-05\\\\\n",
       "\t Typee: A Romance of the South Seas & ye    &  4 & 9.296704e-05\\\\\n",
       "\t Bartleby, the Scrivener            & ye    &  1 & 2.000400e-04\\\\\n",
       "\t Typee: A Romance of the South Seas & ahab  &  1 & 2.324176e-05\\\\\n",
       "\\end{tabular}\n"
      ],
      "text/markdown": [
       "\n",
       "A tibble: 32 × 4\n",
       "\n",
       "| title &lt;chr&gt; | word &lt;chr&gt; | n &lt;int&gt; | proportion &lt;dbl&gt; |\n",
       "|---|---|---|---|\n",
       "| Moby Dick    | whale   | 1243 | 0.014414435 |\n",
       "| Moby Dick    | ahab    |  520 | 0.006030174 |\n",
       "| Moby Dick    | ship    |  520 | 0.006030174 |\n",
       "| Moby Dick    | sea     |  454 | 0.005264806 |\n",
       "| Moby Dick    | ye      |  439 | 0.005090858 |\n",
       "| White Jacket | captain |  413 | 0.007316339 |\n",
       "| Moby Dick    | head    |  348 | 0.004035578 |\n",
       "| White Jacket | ship    |  345 | 0.006111711 |\n",
       "| ⋮ | ⋮ | ⋮ | ⋮ |\n",
       "| Bartleby, the Scrivener            | time  | 27 | 5.401080e-03 |\n",
       "| Typee: A Romance of the South Seas | whale | 24 | 5.578023e-04 |\n",
       "| Bartleby, the Scrivener            | head  |  6 | 1.200240e-03 |\n",
       "| White Jacket                       | whale |  5 | 8.857553e-05 |\n",
       "| Typee: A Romance of the South Seas | ye    |  4 | 9.296704e-05 |\n",
       "| Bartleby, the Scrivener            | ye    |  1 | 2.000400e-04 |\n",
       "| Typee: A Romance of the South Seas | ahab  |  1 | 2.324176e-05 |\n",
       "\n"
      ],
      "text/plain": [
       "   title                              word    n    proportion  \n",
       "1  Moby Dick                          whale   1243 0.014414435 \n",
       "2  Moby Dick                          ahab     520 0.006030174 \n",
       "3  Moby Dick                          ship     520 0.006030174 \n",
       "4  Moby Dick                          sea      454 0.005264806 \n",
       "5  Moby Dick                          ye       439 0.005090858 \n",
       "6  White Jacket                       captain  413 0.007316339 \n",
       "7  Moby Dick                          head     348 0.004035578 \n",
       "8  White Jacket                       ship     345 0.006111711 \n",
       "⋮  ⋮                                  ⋮       ⋮    ⋮           \n",
       "26 Bartleby, the Scrivener            time    27   5.401080e-03\n",
       "27 Typee: A Romance of the South Seas whale   24   5.578023e-04\n",
       "28 Bartleby, the Scrivener            head     6   1.200240e-03\n",
       "29 White Jacket                       whale    5   8.857553e-05\n",
       "30 Typee: A Romance of the South Seas ye       4   9.296704e-05\n",
       "31 Bartleby, the Scrivener            ye       1   2.000400e-04\n",
       "32 Typee: A Romance of the South Seas ahab     1   2.324176e-05"
      ]
     },
     "metadata": {},
     "output_type": "display_data"
    }
   ],
   "source": [
    "top_moby_words_other_texts <- tidy_melville %>%\n",
    "  group_by(title) %>%\n",
    "  mutate(proportion = n / sum(n)) %>%\n",
    "  inner_join(top_moby, by=\"word\") %>%\n",
    "  ungroup()\n",
    "top_moby_words_other_texts"
   ]
  },
  {
   "cell_type": "markdown",
   "metadata": {},
   "source": [
    "Now, the plot. Note that the factor in the `y` aesthetic mapping allows us to preserve the order of popular words in `top_moby` so that we can observe an upward trend in the *Moby Dick* bar heights."
   ]
  },
  {
   "cell_type": "code",
   "execution_count": 27,
   "metadata": {},
   "outputs": [
    {
     "data": {
      "image/png": "[encoded data removed]",
      "text/plain": [
       "plot without title"
      ]
     },
     "metadata": {
      "image/png": {
       "height": 480,
       "width": 800
      }
     },
     "output_type": "display_data"
    }
   ],
   "source": [
    "ggplot(top_moby_words_other_texts) + \n",
    "  geom_bar(aes(x=proportion, \n",
    "               y=factor(word, level=top_moby$word), fill=title), \n",
    "           position=\"dodge\",stat=\"identity\") +\n",
    "  labs(y=\"word\")"
   ]
  },
  {
   "cell_type": "markdown",
   "metadata": {},
   "source": [
    "## 4. Break\n",
    "\n",
    "## 5. Sentiment analysis\n",
    "\n",
    "TBA \n",
    "\n",
    "Mining sentiment from text provides a lens for understanding attitudes and opinions\n",
    "expressed through text. \n",
    "\n",
    "when text data is in a tidy data structure, sentiment analysis boils down to just \n",
    "an inner join. "
   ]
  },
  {
   "cell_type": "code",
   "execution_count": null,
   "metadata": {},
   "outputs": [],
   "source": []
  },
  {
   "cell_type": "code",
   "execution_count": null,
   "metadata": {},
   "outputs": [],
   "source": []
  },
  {
   "cell_type": "code",
   "execution_count": null,
   "metadata": {},
   "outputs": [],
   "source": []
  }
 ],
 "metadata": {
  "interpreter": {
   "hash": "5d7907136a6736b943e4338eee9fc0e153ff94b55e084b753cb53efa417096bc"
  },
  "kernelspec": {
   "display_name": "R",
   "language": "R",
   "name": "ir"
  },
  "language_info": {
   "codemirror_mode": "r",
   "file_extension": ".r",
   "mimetype": "text/x-r-source",
   "name": "R",
   "pygments_lexer": "r",
   "version": "4.1.1"
  }
 },
 "nbformat": 4,
 "nbformat_minor": 4
}
